{
 "cells": [
  {
   "cell_type": "markdown",
   "metadata": {},
   "source": [
    "## MVA-MP1: Image Classification and Regression\n",
    "**Hind DADOUN**"
   ]
  },
  {
   "cell_type": "markdown",
   "metadata": {},
   "source": [
    "## 2- Getting Started"
   ]
  },
  {
   "cell_type": "code",
   "execution_count": 51,
   "metadata": {},
   "outputs": [
    {
     "data": {
      "image/png": "[encoded data removed]",
      "text/plain": [
       "<Figure size 432x288 with 1 Axes>"
      ]
     },
     "metadata": {
      "needs_background": "light"
     },
     "output_type": "display_data"
    }
   ],
   "source": [
    "import matplotlib.pyplot as plt\n",
    "%matplotlib inline\n",
    "import numpy as np\n",
    "\n",
    "# On some implementations of matplotlib, you may need to change this value\n",
    "IMAGE_SIZE = 72\n",
    "\n",
    "def generate_a_drawing(figsize, U, V, noise=0.0):\n",
    "    fig = plt.figure(figsize=(figsize,figsize))\n",
    "    ax = plt.subplot(111)\n",
    "    plt.axis('Off')\n",
    "    ax.set_xlim(0,figsize)\n",
    "    ax.set_ylim(0,figsize)\n",
    "    ax.fill(U, V, \"k\")\n",
    "    fig.canvas.draw()\n",
    "    imdata = np.frombuffer(fig.canvas.tostring_rgb(), dtype=np.uint8)[::3].astype(np.float32)\n",
    "    imdata = imdata + noise * np.random.random(imdata.size)\n",
    "    plt.close(fig)\n",
    "    return imdata\n",
    "\n",
    "def generate_a_rectangle(noise=0.0, free_location=False):\n",
    "    figsize = 1.0    \n",
    "    U = np.zeros(4)\n",
    "    V = np.zeros(4)\n",
    "    if free_location:\n",
    "        corners = np.random.random(4)\n",
    "        top = max(corners[0], corners[1])\n",
    "        bottom = min(corners[0], corners[1])\n",
    "        left = min(corners[2], corners[3])\n",
    "        right = max(corners[2], corners[3])\n",
    "    else:\n",
    "        side = (0.3 + 0.7 * np.random.random()) * figsize\n",
    "        top = figsize/2 + side/2\n",
    "        bottom = figsize/2 - side/2\n",
    "        left = bottom\n",
    "        right = top\n",
    "    U[0] = U[1] = top\n",
    "    U[2] = U[3] = bottom\n",
    "    V[0] = V[3] = left\n",
    "    V[1] = V[2] = right\n",
    "    return generate_a_drawing(figsize, U, V, noise)\n",
    "\n",
    "\n",
    "def generate_a_disk(noise=0.0, free_location=False):\n",
    "    figsize = 1.0\n",
    "    if free_location:\n",
    "        center = np.random.random(2)\n",
    "    else:\n",
    "        center = (figsize/2, figsize/2)\n",
    "    radius = (0.3 + 0.7 * np.random.random()) * figsize/2\n",
    "    N = 50\n",
    "    U = np.zeros(N)\n",
    "    V = np.zeros(N)\n",
    "    i = 0\n",
    "    for t in np.linspace(0, 2*np.pi, N):\n",
    "        U[i] = center[0] + np.cos(t) * radius\n",
    "        V[i] = center[1] + np.sin(t) * radius\n",
    "        i = i + 1\n",
    "    return generate_a_drawing(figsize, U, V, noise)\n",
    "\n",
    "def generate_a_triangle(noise=0.0, free_location=False):\n",
    "    figsize = 1.0\n",
    "    if free_location:\n",
    "        U = np.random.random(3)\n",
    "        V = np.random.random(3)\n",
    "    else:\n",
    "        size = (0.3 + 0.7 * np.random.random())*figsize/2\n",
    "        middle = figsize/2\n",
    "        U = (middle, middle+size, middle-size)\n",
    "        V = (middle+size, middle-size, middle-size)\n",
    "    imdata = generate_a_drawing(figsize, U, V, noise)\n",
    "    return [imdata, [U[0], V[0], U[1], V[1], U[2], V[2]]]\n",
    "\n",
    "\n",
    "im = generate_a_rectangle(10, True)\n",
    "plt.imshow(im.reshape(IMAGE_SIZE,IMAGE_SIZE), cmap='gray')\n",
    "\n",
    "im = generate_a_disk(10)\n",
    "plt.imshow(im.reshape(IMAGE_SIZE,IMAGE_SIZE), cmap='gray')\n",
    "\n",
    "[im, v] = generate_a_triangle(20, False)\n",
    "plt.imshow(im.reshape(IMAGE_SIZE,IMAGE_SIZE), cmap='gray')\n",
    "\n",
    "#Function for last question\n",
    "def generate_dataset_classification1(nb_samples, noise=0.0, free_location=False,pair=False):\n",
    "    # Getting im_size:\n",
    "    im_size = generate_a_rectangle().shape[0]\n",
    "    X = np.zeros([nb_samples,im_size])\n",
    "    Y = np.zeros(nb_samples)\n",
    "    X_noise = np.zeros([nb_samples,im_size])\n",
    "    Y_noise = np.zeros(nb_samples)\n",
    "    print('Creating data:')\n",
    "    for i in range(nb_samples):\n",
    "        #if i % 10 == 0:\n",
    "            #print(i)\n",
    "        category = np.random.randint(3)\n",
    "        np.random.seed(i)\n",
    "        if category == 0:\n",
    "            X[i] = generate_a_rectangle(0.0, free_location)\n",
    "        elif category == 1: \n",
    "            X[i] = generate_a_disk(0.0, free_location)\n",
    "        else:\n",
    "            [X[i], V] = generate_a_triangle(0.0, free_location)\n",
    "        Y[i] = category\n",
    "            \n",
    "        if pair==True: \n",
    "                np.random.seed(i)\n",
    "                if category == 0:\n",
    "                    X_noise[i] = generate_a_rectangle(noise, free_location)\n",
    "                elif category == 1: \n",
    "                    X_noise[i] = generate_a_disk(noise, free_location)\n",
    "                else:\n",
    "                    [X_noise[i], V_noise] = generate_a_triangle(noise, free_location)\n",
    "                Y_noise[i] = category\n",
    "    X = (X ) / (255 )            \n",
    "    if pair==True: \n",
    "        X_noise = (X_noise + noise) / (255 + 2 * noise)\n",
    "        res=[[X,Y],[X_noise,Y_noise]]\n",
    "        return res\n",
    "    else:    \n",
    "        return [X, Y]\n",
    "\n",
    "def generate_dataset_classification(nb_samples, noise=0.0, free_location=False):\n",
    "    # Getting im_size:\n",
    "    im_size = generate_a_rectangle().shape[0]\n",
    "    X = np.zeros([nb_samples,im_size])\n",
    "    Y = np.zeros(nb_samples)\n",
    "    print('Creating data:')\n",
    "    for i in range(nb_samples):\n",
    "        category = np.random.randint(3)\n",
    "        if category == 0:\n",
    "            X[i] = generate_a_rectangle(noise, free_location)\n",
    "        elif category == 1: \n",
    "            X[i] = generate_a_disk(noise, free_location)\n",
    "        else:\n",
    "            [X[i], V] = generate_a_triangle(noise, free_location)\n",
    "        Y[i] = category\n",
    "    X = (X + noise) / (255 + 2 * noise)\n",
    "    return [X, Y]\n",
    "\n",
    "def generate_test_set_classification():\n",
    "    np.random.seed(42)\n",
    "    [X_test, Y_test] = generate_dataset_classification(300, 20, True)\n",
    "    Y_test = np_utils.to_categorical(Y_test, 3) \n",
    "    return [X_test, Y_test]\n",
    "\n",
    "\n",
    "def generate_test_set_classification1(pair=False):\n",
    "    np.random.seed(42)\n",
    "    if pair==False: \n",
    "        [X_test, Y_test] = generate_dataset_classification1(300, 20, True)\n",
    "        Y_test = np_utils.to_categorical(Y_test, 3) \n",
    "        return [X_test, Y_test]\n",
    "    else: \n",
    "        [X_test, Y_test],[X_test_noise,Y_test_noise] = generate_dataset_classification1(300, 20, True,pair=True)\n",
    "        Y_test = np_utils.to_categorical(Y_test, 3)\n",
    "        Y_test_noise = np_utils.to_categorical(Y_test_noise, 3)\n",
    "        \n",
    "        return [[X_test, Y_test],[X_test_noise,Y_test_noise]]\n",
    "        \n",
    "\n",
    "def generate_dataset_regression(nb_samples, noise=0.0):\n",
    "    # Getting im_size:\n",
    "    im_size = generate_a_triangle()[0].shape[0]\n",
    "    X = np.zeros([nb_samples,im_size])\n",
    "    Y = np.zeros([nb_samples, 6])\n",
    "    print('Creating data:')\n",
    "    for i in range(nb_samples):\n",
    "        #if i % 10 == 0:\n",
    "         #   print(i)\n",
    "        [X[i], Y[i]] = generate_a_triangle(noise, True)\n",
    "    X = (X + noise) / (255 + 2 * noise)\n",
    "    return [X, Y]\n",
    "\n",
    "import matplotlib.patches as patches\n",
    "\n",
    "def visualize_prediction(x, y):\n",
    "    fig, ax = plt.subplots(figsize=(5, 5))\n",
    "    I = x.reshape((IMAGE_SIZE,IMAGE_SIZE))\n",
    "    ax.imshow(I, extent=[-0.15,1.15,-0.15,1.15],cmap='gray')\n",
    "    ax.set_xlim([0,1])\n",
    "    ax.set_ylim([0,1])\n",
    "\n",
    "    xy = y.reshape(3,2)\n",
    "    tri = patches.Polygon(xy, closed=True, fill = False, edgecolor = 'r', linewidth = 5, alpha = 0.5)\n",
    "    ax.add_patch(tri)\n",
    "\n",
    "    plt.show()\n",
    "\n",
    "def generate_test_set_regression():\n",
    "    np.random.seed(42)\n",
    "    [X_test, Y_test] = generate_dataset_regression(300, 20)\n",
    "    return [X_test, Y_test]\n",
    "\n"
   ]
  },
  {
   "cell_type": "markdown",
   "metadata": {},
   "source": [
    "## 3- Simple Classification"
   ]
  },
  {
   "cell_type": "code",
   "execution_count": 52,
   "metadata": {},
   "outputs": [],
   "source": [
    "import keras\n",
    "from keras.layers import Dense\n",
    "from keras.models import Sequential,Model\n",
    "from keras.utils import np_utils\n",
    "from keras.callbacks import EarlyStopping\n",
    "from keras.utils import np_utils\n",
    "from keras.layers import UpSampling2D, Input"
   ]
  },
  {
   "cell_type": "code",
   "execution_count": 53,
   "metadata": {},
   "outputs": [
    {
     "name": "stdout",
     "output_type": "stream",
     "text": [
      "Creating data:\n",
      "Creating data:\n"
     ]
    }
   ],
   "source": [
    "[X_train, Y_train] = generate_dataset_classification(300, 20)\n",
    "[X_test, Y_test]=generate_test_set_classification()"
   ]
  },
  {
   "cell_type": "code",
   "execution_count": 54,
   "metadata": {},
   "outputs": [],
   "source": [
    "#Hot-encodding\n",
    "Y_train = np_utils.to_categorical(Y_train, 3)"
   ]
  },
  {
   "cell_type": "code",
   "execution_count": 56,
   "metadata": {},
   "outputs": [
    {
     "name": "stdout",
     "output_type": "stream",
     "text": [
      "Train on 300 samples, validate on 300 samples\n",
      "Epoch 1/100\n",
      "300/300 [==============================] - 2s 5ms/step - loss: 1.8766 - acc: 0.2800 - val_loss: 1.0975 - val_acc: 0.3567\n",
      "Epoch 2/100\n",
      "300/300 [==============================] - 0s 361us/step - loss: 1.1000 - acc: 0.2667 - val_loss: 1.0970 - val_acc: 0.3300\n",
      "Epoch 3/100\n",
      "300/300 [==============================] - 0s 381us/step - loss: 1.0983 - acc: 0.3533 - val_loss: 1.0970 - val_acc: 0.3300\n",
      "Epoch 4/100\n",
      "300/300 [==============================] - 0s 377us/step - loss: 1.0982 - acc: 0.3533 - val_loss: 1.0970 - val_acc: 0.3300\n",
      "Epoch 5/100\n",
      "300/300 [==============================] - 0s 360us/step - loss: 1.0981 - acc: 0.3033 - val_loss: 1.0970 - val_acc: 0.3300\n",
      "Epoch 6/100\n",
      "300/300 [==============================] - 0s 373us/step - loss: 1.0980 - acc: 0.3533 - val_loss: 1.0970 - val_acc: 0.3300\n",
      "Epoch 7/100\n",
      "300/300 [==============================] - 0s 380us/step - loss: 1.0980 - acc: 0.3533 - val_loss: 1.0970 - val_acc: 0.3300\n",
      "Epoch 8/100\n",
      "300/300 [==============================] - 0s 382us/step - loss: 1.0969 - acc: 0.3533 - val_loss: 1.0919 - val_acc: 0.3300\n",
      "Epoch 9/100\n",
      "300/300 [==============================] - 0s 383us/step - loss: 1.0841 - acc: 0.3533 - val_loss: 1.0858 - val_acc: 0.3300\n",
      "Epoch 10/100\n",
      "300/300 [==============================] - 0s 384us/step - loss: 1.0559 - acc: 0.3533 - val_loss: 1.0855 - val_acc: 0.3000\n",
      "Epoch 11/100\n",
      "300/300 [==============================] - 0s 324us/step - loss: 1.0376 - acc: 0.3433 - val_loss: 1.0825 - val_acc: 0.3233\n",
      "Epoch 12/100\n",
      "300/300 [==============================] - 0s 345us/step - loss: 1.0146 - acc: 0.3567 - val_loss: 1.0851 - val_acc: 0.3033\n",
      "Epoch 13/100\n",
      "300/300 [==============================] - 0s 439us/step - loss: 0.9973 - acc: 0.3533 - val_loss: 1.1413 - val_acc: 0.3267\n",
      "Epoch 14/100\n",
      "300/300 [==============================] - 0s 510us/step - loss: 0.9603 - acc: 0.3433 - val_loss: 1.0669 - val_acc: 0.4400\n",
      "Epoch 15/100\n",
      "300/300 [==============================] - 0s 472us/step - loss: 0.9621 - acc: 0.5200 - val_loss: 1.0649 - val_acc: 0.4333\n",
      "Epoch 16/100\n",
      "300/300 [==============================] - 0s 555us/step - loss: 0.9241 - acc: 0.5467 - val_loss: 1.1637 - val_acc: 0.2800\n",
      "Epoch 17/100\n",
      "300/300 [==============================] - 0s 361us/step - loss: 0.9196 - acc: 0.5433 - val_loss: 1.2437 - val_acc: 0.2867\n",
      "Epoch 18/100\n",
      "300/300 [==============================] - 0s 413us/step - loss: 0.9014 - acc: 0.5500 - val_loss: 1.2045 - val_acc: 0.2700\n",
      "Epoch 19/100\n",
      "300/300 [==============================] - 0s 394us/step - loss: 0.8740 - acc: 0.5600 - val_loss: 1.0872 - val_acc: 0.3833\n",
      "Epoch 20/100\n",
      "300/300 [==============================] - 0s 387us/step - loss: 0.8949 - acc: 0.5567 - val_loss: 1.0977 - val_acc: 0.3767\n",
      "Epoch 21/100\n",
      "300/300 [==============================] - 0s 388us/step - loss: 0.8684 - acc: 0.6000 - val_loss: 1.2932 - val_acc: 0.2700\n",
      "Epoch 22/100\n",
      "300/300 [==============================] - 0s 408us/step - loss: 0.8478 - acc: 0.5933 - val_loss: 1.1049 - val_acc: 0.3833\n",
      "Epoch 23/100\n",
      "300/300 [==============================] - 0s 606us/step - loss: 0.8277 - acc: 0.6333 - val_loss: 1.1979 - val_acc: 0.3533\n",
      "Epoch 24/100\n",
      "300/300 [==============================] - 0s 583us/step - loss: 0.8303 - acc: 0.6267 - val_loss: 1.1248 - val_acc: 0.3700\n",
      "Epoch 25/100\n",
      "300/300 [==============================] - 0s 622us/step - loss: 0.8351 - acc: 0.6033 - val_loss: 1.1053 - val_acc: 0.3967\n",
      "Epoch 26/100\n",
      "300/300 [==============================] - 0s 562us/step - loss: 0.8113 - acc: 0.6300 - val_loss: 1.0600 - val_acc: 0.4233\n",
      "Epoch 27/100\n",
      "300/300 [==============================] - 0s 418us/step - loss: 0.8167 - acc: 0.6367 - val_loss: 1.1308 - val_acc: 0.3733\n",
      "Epoch 28/100\n",
      "300/300 [==============================] - 0s 571us/step - loss: 0.7992 - acc: 0.6267 - val_loss: 1.1978 - val_acc: 0.3267\n",
      "Epoch 29/100\n",
      "300/300 [==============================] - 0s 642us/step - loss: 0.7984 - acc: 0.6300 - val_loss: 1.1315 - val_acc: 0.3800\n",
      "Epoch 30/100\n",
      "300/300 [==============================] - 0s 588us/step - loss: 0.8004 - acc: 0.6033 - val_loss: 1.0891 - val_acc: 0.3933\n",
      "Epoch 31/100\n",
      "300/300 [==============================] - 0s 600us/step - loss: 0.7805 - acc: 0.6233 - val_loss: 1.1478 - val_acc: 0.3767\n",
      "Epoch 32/100\n",
      "300/300 [==============================] - 0s 555us/step - loss: 0.7631 - acc: 0.6433 - val_loss: 1.3126 - val_acc: 0.3667\n",
      "Epoch 33/100\n",
      "300/300 [==============================] - 0s 555us/step - loss: 0.7611 - acc: 0.6367 - val_loss: 1.3900 - val_acc: 0.3267\n",
      "Epoch 34/100\n",
      "300/300 [==============================] - 0s 565us/step - loss: 0.7758 - acc: 0.6367 - val_loss: 1.2889 - val_acc: 0.4067\n",
      "Epoch 35/100\n",
      "300/300 [==============================] - 0s 581us/step - loss: 0.7480 - acc: 0.6400 - val_loss: 1.3646 - val_acc: 0.3600\n",
      "Epoch 36/100\n",
      "300/300 [==============================] - 0s 572us/step - loss: 0.7500 - acc: 0.6333 - val_loss: 1.2610 - val_acc: 0.3500\n",
      "Epoch 37/100\n",
      "300/300 [==============================] - 0s 589us/step - loss: 0.7435 - acc: 0.6500 - val_loss: 1.3144 - val_acc: 0.3900\n",
      "Epoch 38/100\n",
      "300/300 [==============================] - 0s 570us/step - loss: 0.7397 - acc: 0.6533 - val_loss: 1.2701 - val_acc: 0.3300\n",
      "Epoch 39/100\n",
      "300/300 [==============================] - 0s 587us/step - loss: 0.7357 - acc: 0.6633 - val_loss: 1.2800 - val_acc: 0.3367\n",
      "Epoch 40/100\n",
      "300/300 [==============================] - 0s 575us/step - loss: 0.7259 - acc: 0.6700 - val_loss: 1.2844 - val_acc: 0.3300\n",
      "Epoch 41/100\n",
      "300/300 [==============================] - 0s 406us/step - loss: 0.7212 - acc: 0.6500 - val_loss: 1.3044 - val_acc: 0.3433\n",
      "Epoch 42/100\n",
      "300/300 [==============================] - 0s 534us/step - loss: 0.7231 - acc: 0.6600 - val_loss: 1.2417 - val_acc: 0.3700\n",
      "Epoch 43/100\n",
      "300/300 [==============================] - 0s 578us/step - loss: 0.7126 - acc: 0.6500 - val_loss: 1.2590 - val_acc: 0.3633\n",
      "Epoch 44/100\n",
      "300/300 [==============================] - 0s 608us/step - loss: 0.7144 - acc: 0.6500 - val_loss: 1.2303 - val_acc: 0.3633\n",
      "Epoch 45/100\n",
      "300/300 [==============================] - 0s 579us/step - loss: 0.7038 - acc: 0.6400 - val_loss: 1.3685 - val_acc: 0.3733\n",
      "Epoch 46/100\n",
      "300/300 [==============================] - 0s 553us/step - loss: 0.7253 - acc: 0.6333 - val_loss: 1.1919 - val_acc: 0.3833\n",
      "Epoch 47/100\n",
      "300/300 [==============================] - 0s 417us/step - loss: 0.7053 - acc: 0.6600 - val_loss: 1.2893 - val_acc: 0.3400\n",
      "Epoch 48/100\n",
      "300/300 [==============================] - 0s 308us/step - loss: 0.6997 - acc: 0.6633 - val_loss: 1.3257 - val_acc: 0.3400\n",
      "Epoch 49/100\n",
      "300/300 [==============================] - 0s 378us/step - loss: 0.6872 - acc: 0.6600 - val_loss: 1.2921 - val_acc: 0.3567\n",
      "Epoch 50/100\n",
      "300/300 [==============================] - 0s 420us/step - loss: 0.6884 - acc: 0.6600 - val_loss: 1.3195 - val_acc: 0.3300\n",
      "Epoch 51/100\n",
      "300/300 [==============================] - 0s 534us/step - loss: 0.6877 - acc: 0.6333 - val_loss: 1.1926 - val_acc: 0.3900\n",
      "Epoch 52/100\n",
      "300/300 [==============================] - 0s 485us/step - loss: 0.6796 - acc: 0.6667 - val_loss: 1.1925 - val_acc: 0.3867\n",
      "Epoch 53/100\n",
      "300/300 [==============================] - 0s 324us/step - loss: 0.6775 - acc: 0.6433 - val_loss: 1.2418 - val_acc: 0.3667\n",
      "Epoch 54/100\n",
      "300/300 [==============================] - 0s 382us/step - loss: 0.6765 - acc: 0.6367 - val_loss: 1.2151 - val_acc: 0.3867\n",
      "Epoch 55/100\n",
      "300/300 [==============================] - 0s 534us/step - loss: 0.6708 - acc: 0.6433 - val_loss: 1.3310 - val_acc: 0.3433\n",
      "Epoch 56/100\n",
      "300/300 [==============================] - 0s 408us/step - loss: 0.6651 - acc: 0.6833 - val_loss: 1.3989 - val_acc: 0.3367\n",
      "Epoch 57/100\n",
      "300/300 [==============================] - 0s 332us/step - loss: 0.6694 - acc: 0.6467 - val_loss: 1.2145 - val_acc: 0.3900\n",
      "Epoch 58/100\n",
      "300/300 [==============================] - 0s 431us/step - loss: 0.6630 - acc: 0.6600 - val_loss: 1.2676 - val_acc: 0.3600\n",
      "Epoch 59/100\n",
      "300/300 [==============================] - 0s 573us/step - loss: 0.6568 - acc: 0.6500 - val_loss: 1.3343 - val_acc: 0.3467\n",
      "Epoch 60/100\n",
      "300/300 [==============================] - 0s 581us/step - loss: 0.6513 - acc: 0.6433 - val_loss: 1.2814 - val_acc: 0.3533\n",
      "Epoch 61/100\n",
      "300/300 [==============================] - 0s 553us/step - loss: 0.6522 - acc: 0.6633 - val_loss: 1.3057 - val_acc: 0.3433\n",
      "Epoch 62/100\n",
      "300/300 [==============================] - 0s 568us/step - loss: 0.6488 - acc: 0.6667 - val_loss: 1.3558 - val_acc: 0.3600\n",
      "Epoch 63/100\n",
      "300/300 [==============================] - 0s 557us/step - loss: 0.6452 - acc: 0.6567 - val_loss: 1.2971 - val_acc: 0.3567\n",
      "Epoch 64/100\n",
      "300/300 [==============================] - 0s 564us/step - loss: 0.6410 - acc: 0.6367 - val_loss: 1.3714 - val_acc: 0.3367\n",
      "Epoch 65/100\n",
      "300/300 [==============================] - 0s 557us/step - loss: 0.6391 - acc: 0.6467 - val_loss: 1.3630 - val_acc: 0.3567\n",
      "Epoch 66/100\n",
      "300/300 [==============================] - 0s 567us/step - loss: 0.6386 - acc: 0.6867 - val_loss: 1.2975 - val_acc: 0.3600\n",
      "Epoch 67/100\n",
      "300/300 [==============================] - 0s 569us/step - loss: 0.6326 - acc: 0.6367 - val_loss: 1.3196 - val_acc: 0.3567\n",
      "Epoch 68/100\n",
      "300/300 [==============================] - 0s 611us/step - loss: 0.6314 - acc: 0.6467 - val_loss: 1.2841 - val_acc: 0.3767\n",
      "Epoch 69/100\n",
      "300/300 [==============================] - 0s 583us/step - loss: 0.6279 - acc: 0.6500 - val_loss: 1.4140 - val_acc: 0.3367\n",
      "Epoch 70/100\n",
      "300/300 [==============================] - 0s 563us/step - loss: 0.6255 - acc: 0.6500 - val_loss: 1.4158 - val_acc: 0.3400\n",
      "Epoch 71/100\n",
      "300/300 [==============================] - 0s 574us/step - loss: 0.6224 - acc: 0.6600 - val_loss: 1.3313 - val_acc: 0.3500\n",
      "Epoch 72/100\n",
      "300/300 [==============================] - 0s 570us/step - loss: 0.6222 - acc: 0.6867 - val_loss: 1.4673 - val_acc: 0.3400\n",
      "Epoch 73/100\n",
      "300/300 [==============================] - 0s 566us/step - loss: 0.6258 - acc: 0.6500 - val_loss: 1.3379 - val_acc: 0.3567\n",
      "Epoch 74/100\n",
      "300/300 [==============================] - 0s 590us/step - loss: 0.6141 - acc: 0.6567 - val_loss: 1.3206 - val_acc: 0.3467\n",
      "Epoch 75/100\n",
      "300/300 [==============================] - 0s 572us/step - loss: 0.6138 - acc: 0.7700 - val_loss: 1.3841 - val_acc: 0.3500\n",
      "Epoch 76/100\n",
      "300/300 [==============================] - 0s 561us/step - loss: 0.6128 - acc: 0.6467 - val_loss: 1.4358 - val_acc: 0.3367\n",
      "Epoch 77/100\n",
      "300/300 [==============================] - 0s 571us/step - loss: 0.6108 - acc: 0.6500 - val_loss: 1.3054 - val_acc: 0.3800\n",
      "Epoch 78/100\n",
      "300/300 [==============================] - 0s 559us/step - loss: 0.6056 - acc: 0.6600 - val_loss: 1.2327 - val_acc: 0.3867\n",
      "Epoch 79/100\n",
      "300/300 [==============================] - 0s 573us/step - loss: 0.6090 - acc: 0.6467 - val_loss: 1.3453 - val_acc: 0.3600\n",
      "Epoch 80/100\n",
      "300/300 [==============================] - 0s 566us/step - loss: 0.6010 - acc: 0.6633 - val_loss: 1.3694 - val_acc: 0.3567\n",
      "Epoch 81/100\n",
      "300/300 [==============================] - 0s 559us/step - loss: 0.5980 - acc: 0.6533 - val_loss: 1.3572 - val_acc: 0.3633\n",
      "Epoch 82/100\n",
      "300/300 [==============================] - 0s 552us/step - loss: 0.5958 - acc: 0.6433 - val_loss: 1.2924 - val_acc: 0.3867\n",
      "Epoch 83/100\n",
      "300/300 [==============================] - 0s 579us/step - loss: 0.5952 - acc: 0.6500 - val_loss: 1.3394 - val_acc: 0.3800\n",
      "Epoch 84/100\n",
      "300/300 [==============================] - 0s 535us/step - loss: 0.5917 - acc: 0.6433 - val_loss: 1.3281 - val_acc: 0.3767\n",
      "Epoch 85/100\n",
      "300/300 [==============================] - 0s 450us/step - loss: 0.5900 - acc: 0.6767 - val_loss: 1.3745 - val_acc: 0.3633\n",
      "Epoch 86/100\n",
      "300/300 [==============================] - 0s 352us/step - loss: 0.5871 - acc: 0.6500 - val_loss: 1.3836 - val_acc: 0.3567\n",
      "Epoch 87/100\n",
      "300/300 [==============================] - 0s 390us/step - loss: 0.5854 - acc: 0.6600 - val_loss: 1.3264 - val_acc: 0.3867\n",
      "Epoch 88/100\n",
      "300/300 [==============================] - 0s 404us/step - loss: 0.5851 - acc: 0.6833 - val_loss: 1.3458 - val_acc: 0.3800\n",
      "Epoch 89/100\n",
      "300/300 [==============================] - 0s 387us/step - loss: 0.5822 - acc: 0.6867 - val_loss: 1.4221 - val_acc: 0.3500\n",
      "Epoch 90/100\n",
      "300/300 [==============================] - 0s 344us/step - loss: 0.5813 - acc: 0.6633 - val_loss: 1.3348 - val_acc: 0.3900\n",
      "Epoch 91/100\n",
      "300/300 [==============================] - 0s 603us/step - loss: 0.5772 - acc: 0.6667 - val_loss: 1.3642 - val_acc: 0.3800\n",
      "Epoch 92/100\n",
      "300/300 [==============================] - 0s 523us/step - loss: 0.5732 - acc: 0.6567 - val_loss: 1.4012 - val_acc: 0.3767\n",
      "Epoch 93/100\n",
      "300/300 [==============================] - 0s 365us/step - loss: 0.5724 - acc: 0.6633 - val_loss: 1.4505 - val_acc: 0.3500\n",
      "Epoch 94/100\n",
      "300/300 [==============================] - 0s 593us/step - loss: 0.5700 - acc: 0.6800 - val_loss: 1.4090 - val_acc: 0.3767\n",
      "Epoch 95/100\n",
      "300/300 [==============================] - 0s 554us/step - loss: 0.5666 - acc: 0.6733 - val_loss: 1.4800 - val_acc: 0.3467\n",
      "Epoch 96/100\n",
      "300/300 [==============================] - 0s 552us/step - loss: 0.5688 - acc: 0.6667 - val_loss: 1.4321 - val_acc: 0.3633\n",
      "Epoch 97/100\n",
      "300/300 [==============================] - 0s 578us/step - loss: 0.5705 - acc: 0.6500 - val_loss: 1.4799 - val_acc: 0.3500\n",
      "Epoch 98/100\n",
      "300/300 [==============================] - 0s 292us/step - loss: 0.5614 - acc: 0.6867 - val_loss: 1.4842 - val_acc: 0.3533\n",
      "Epoch 99/100\n",
      "300/300 [==============================] - 0s 591us/step - loss: 0.5625 - acc: 0.6700 - val_loss: 1.3713 - val_acc: 0.3867\n",
      "Epoch 100/100\n",
      "300/300 [==============================] - 0s 556us/step - loss: 0.5560 - acc: 0.6767 - val_loss: 1.3617 - val_acc: 0.3867\n"
     ]
    }
   ],
   "source": [
    "#Creating a model with the sgd optimizer\n",
    "model = Sequential()\n",
    "model.add(Dense(32,activation = 'relu', input_shape = (X_train.shape[1],)))\n",
    "model.add(Dense(3, activation = 'softmax'))\n",
    "model.compile(optimizer = 'sgd', loss = 'categorical_crossentropy', metrics =['accuracy'])\n",
    "model.fit(X_train, Y_train, epochs = 100, validation_data=(X_test,Y_test));"
   ]
  },
  {
   "cell_type": "code",
   "execution_count": 57,
   "metadata": {},
   "outputs": [
    {
     "name": "stdout",
     "output_type": "stream",
     "text": [
      "Train on 300 samples, validate on 300 samples\n",
      "Epoch 1/100\n",
      "300/300 [==============================] - 2s 5ms/step - loss: 1.7976 - acc: 0.4433 - val_loss: 1.5608 - val_acc: 0.3367\n",
      "Epoch 2/100\n",
      "300/300 [==============================] - 0s 433us/step - loss: 0.6406 - acc: 0.6533 - val_loss: 1.6154 - val_acc: 0.3233\n",
      "Epoch 3/100\n",
      "300/300 [==============================] - 0s 424us/step - loss: 0.4470 - acc: 0.8300 - val_loss: 1.8953 - val_acc: 0.3367\n",
      "Epoch 4/100\n",
      "300/300 [==============================] - 0s 431us/step - loss: 0.3599 - acc: 0.8967 - val_loss: 1.9518 - val_acc: 0.2967\n",
      "Epoch 5/100\n",
      "300/300 [==============================] - 0s 471us/step - loss: 0.3584 - acc: 0.8367 - val_loss: 2.4636 - val_acc: 0.3900\n",
      "Epoch 6/100\n",
      "300/300 [==============================] - 0s 538us/step - loss: 0.2912 - acc: 0.9300 - val_loss: 2.1635 - val_acc: 0.3467\n",
      "Epoch 7/100\n",
      "300/300 [==============================] - 0s 663us/step - loss: 0.2601 - acc: 0.9267 - val_loss: 2.5947 - val_acc: 0.3900\n",
      "Epoch 8/100\n",
      "300/300 [==============================] - 0s 654us/step - loss: 0.2535 - acc: 0.8900 - val_loss: 2.5722 - val_acc: 0.3567\n",
      "Epoch 9/100\n",
      "300/300 [==============================] - 0s 656us/step - loss: 0.2626 - acc: 0.8800 - val_loss: 2.8837 - val_acc: 0.3367\n",
      "Epoch 10/100\n",
      "300/300 [==============================] - 0s 639us/step - loss: 0.2513 - acc: 0.9000 - val_loss: 2.5823 - val_acc: 0.3733\n",
      "Epoch 11/100\n",
      "300/300 [==============================] - 0s 363us/step - loss: 0.1665 - acc: 0.9700 - val_loss: 2.8311 - val_acc: 0.3433\n",
      "Epoch 12/100\n",
      "300/300 [==============================] - 0s 680us/step - loss: 0.1997 - acc: 0.9267 - val_loss: 2.7766 - val_acc: 0.3600\n",
      "Epoch 13/100\n",
      "300/300 [==============================] - 0s 645us/step - loss: 0.1469 - acc: 0.9667 - val_loss: 2.7909 - val_acc: 0.3733\n",
      "Epoch 14/100\n",
      "300/300 [==============================] - 0s 489us/step - loss: 0.1268 - acc: 0.9833 - val_loss: 2.9056 - val_acc: 0.3767\n",
      "Epoch 15/100\n",
      "300/300 [==============================] - 0s 434us/step - loss: 0.1067 - acc: 1.0000 - val_loss: 3.0058 - val_acc: 0.3733\n",
      "Epoch 16/100\n",
      "300/300 [==============================] - 0s 567us/step - loss: 0.0987 - acc: 0.9967 - val_loss: 3.0906 - val_acc: 0.3633\n",
      "Epoch 17/100\n",
      "300/300 [==============================] - 0s 654us/step - loss: 0.1081 - acc: 0.9833 - val_loss: 2.9869 - val_acc: 0.3867\n",
      "Epoch 18/100\n",
      "300/300 [==============================] - 0s 654us/step - loss: 0.1102 - acc: 0.9800 - val_loss: 3.0270 - val_acc: 0.3733\n",
      "Epoch 19/100\n",
      "300/300 [==============================] - 0s 611us/step - loss: 0.0791 - acc: 0.9967 - val_loss: 3.1261 - val_acc: 0.3833\n",
      "Epoch 20/100\n",
      "300/300 [==============================] - 0s 615us/step - loss: 0.0719 - acc: 0.9967 - val_loss: 3.0311 - val_acc: 0.3567\n",
      "Epoch 21/100\n",
      "300/300 [==============================] - 0s 635us/step - loss: 0.0850 - acc: 1.0000 - val_loss: 3.1666 - val_acc: 0.3567\n",
      "Epoch 22/100\n",
      "300/300 [==============================] - 0s 667us/step - loss: 0.0693 - acc: 0.9933 - val_loss: 3.2927 - val_acc: 0.3833\n",
      "Epoch 23/100\n",
      "300/300 [==============================] - 0s 643us/step - loss: 0.0660 - acc: 0.9933 - val_loss: 3.2106 - val_acc: 0.3867\n",
      "Epoch 24/100\n",
      "300/300 [==============================] - 0s 652us/step - loss: 0.0641 - acc: 0.9933 - val_loss: 3.3896 - val_acc: 0.3733\n",
      "Epoch 25/100\n",
      "300/300 [==============================] - 0s 608us/step - loss: 0.0498 - acc: 0.9967 - val_loss: 3.3511 - val_acc: 0.3867\n",
      "Epoch 26/100\n",
      "300/300 [==============================] - 0s 628us/step - loss: 0.0393 - acc: 1.0000 - val_loss: 3.3524 - val_acc: 0.3833\n",
      "Epoch 27/100\n",
      "300/300 [==============================] - 0s 652us/step - loss: 0.0373 - acc: 1.0000 - val_loss: 3.4561 - val_acc: 0.3833\n",
      "Epoch 28/100\n",
      "300/300 [==============================] - 0s 625us/step - loss: 0.0354 - acc: 1.0000 - val_loss: 3.4895 - val_acc: 0.3800\n",
      "Epoch 29/100\n",
      "300/300 [==============================] - 0s 606us/step - loss: 0.0409 - acc: 0.9967 - val_loss: 3.5292 - val_acc: 0.3833\n",
      "Epoch 30/100\n",
      "300/300 [==============================] - 0s 605us/step - loss: 0.0363 - acc: 1.0000 - val_loss: 3.5698 - val_acc: 0.3767\n",
      "Epoch 31/100\n",
      "300/300 [==============================] - 0s 621us/step - loss: 0.0426 - acc: 0.9967 - val_loss: 3.6718 - val_acc: 0.3533\n",
      "Epoch 32/100\n",
      "300/300 [==============================] - 0s 655us/step - loss: 0.0405 - acc: 1.0000 - val_loss: 3.6896 - val_acc: 0.3633\n",
      "Epoch 33/100\n",
      "300/300 [==============================] - 0s 660us/step - loss: 0.0362 - acc: 0.9967 - val_loss: 3.6414 - val_acc: 0.3800\n",
      "Epoch 34/100\n",
      "300/300 [==============================] - 0s 619us/step - loss: 0.0319 - acc: 0.9967 - val_loss: 3.7779 - val_acc: 0.3667\n",
      "Epoch 35/100\n",
      "300/300 [==============================] - 0s 666us/step - loss: 0.0363 - acc: 1.0000 - val_loss: 3.7705 - val_acc: 0.3600\n",
      "Epoch 36/100\n",
      "300/300 [==============================] - 0s 631us/step - loss: 0.0373 - acc: 1.0000 - val_loss: 3.7719 - val_acc: 0.3767\n",
      "Epoch 37/100\n",
      "300/300 [==============================] - 0s 653us/step - loss: 0.0338 - acc: 1.0000 - val_loss: 3.6841 - val_acc: 0.3867\n",
      "Epoch 38/100\n",
      "300/300 [==============================] - 0s 621us/step - loss: 0.0309 - acc: 1.0000 - val_loss: 3.6452 - val_acc: 0.3833\n",
      "Epoch 39/100\n",
      "300/300 [==============================] - 0s 648us/step - loss: 0.0229 - acc: 1.0000 - val_loss: 3.7195 - val_acc: 0.3833\n",
      "Epoch 40/100\n",
      "300/300 [==============================] - 0s 625us/step - loss: 0.0182 - acc: 1.0000 - val_loss: 3.7902 - val_acc: 0.3833\n",
      "Epoch 41/100\n",
      "300/300 [==============================] - 0s 624us/step - loss: 0.0160 - acc: 1.0000 - val_loss: 3.8979 - val_acc: 0.3833\n",
      "Epoch 42/100\n",
      "300/300 [==============================] - 0s 625us/step - loss: 0.0155 - acc: 1.0000 - val_loss: 3.7930 - val_acc: 0.3833\n",
      "Epoch 43/100\n",
      "300/300 [==============================] - 0s 654us/step - loss: 0.0157 - acc: 1.0000 - val_loss: 3.8317 - val_acc: 0.3800\n",
      "Epoch 44/100\n",
      "300/300 [==============================] - 0s 671us/step - loss: 0.0137 - acc: 1.0000 - val_loss: 3.8892 - val_acc: 0.3833\n",
      "Epoch 45/100\n",
      "300/300 [==============================] - 0s 651us/step - loss: 0.0139 - acc: 1.0000 - val_loss: 3.8639 - val_acc: 0.3833\n",
      "Epoch 46/100\n",
      "300/300 [==============================] - 0s 659us/step - loss: 0.0137 - acc: 1.0000 - val_loss: 3.8844 - val_acc: 0.3833\n",
      "Epoch 47/100\n",
      "300/300 [==============================] - 0s 622us/step - loss: 0.0136 - acc: 1.0000 - val_loss: 3.9497 - val_acc: 0.3867\n",
      "Epoch 48/100\n",
      "300/300 [==============================] - 0s 598us/step - loss: 0.0127 - acc: 1.0000 - val_loss: 4.0163 - val_acc: 0.3833\n",
      "Epoch 49/100\n",
      "300/300 [==============================] - 0s 658us/step - loss: 0.0117 - acc: 1.0000 - val_loss: 3.9877 - val_acc: 0.3833\n",
      "Epoch 50/100\n",
      "300/300 [==============================] - 0s 621us/step - loss: 0.0109 - acc: 1.0000 - val_loss: 3.9871 - val_acc: 0.3833\n",
      "Epoch 51/100\n",
      "300/300 [==============================] - 0s 631us/step - loss: 0.0110 - acc: 1.0000 - val_loss: 4.0015 - val_acc: 0.3800\n",
      "Epoch 52/100\n",
      "300/300 [==============================] - 0s 608us/step - loss: 0.0108 - acc: 1.0000 - val_loss: 4.0123 - val_acc: 0.3767\n",
      "Epoch 53/100\n",
      "300/300 [==============================] - 0s 641us/step - loss: 0.0100 - acc: 1.0000 - val_loss: 4.0687 - val_acc: 0.3800\n",
      "Epoch 54/100\n",
      "300/300 [==============================] - 0s 617us/step - loss: 0.0098 - acc: 1.0000 - val_loss: 4.0954 - val_acc: 0.3800\n",
      "Epoch 55/100\n",
      "300/300 [==============================] - 0s 597us/step - loss: 0.0092 - acc: 1.0000 - val_loss: 4.0591 - val_acc: 0.3833\n",
      "Epoch 56/100\n",
      "300/300 [==============================] - 0s 532us/step - loss: 0.0089 - acc: 1.0000 - val_loss: 4.1432 - val_acc: 0.3833\n",
      "Epoch 57/100\n",
      "300/300 [==============================] - 0s 415us/step - loss: 0.0090 - acc: 1.0000 - val_loss: 4.1032 - val_acc: 0.3833\n",
      "Epoch 58/100\n",
      "300/300 [==============================] - 0s 457us/step - loss: 0.0085 - acc: 1.0000 - val_loss: 4.1626 - val_acc: 0.3767\n",
      "Epoch 59/100\n",
      "300/300 [==============================] - 0s 423us/step - loss: 0.0085 - acc: 1.0000 - val_loss: 4.1378 - val_acc: 0.3800\n",
      "Epoch 60/100\n",
      "300/300 [==============================] - 0s 465us/step - loss: 0.0082 - acc: 1.0000 - val_loss: 4.1375 - val_acc: 0.3833\n",
      "Epoch 61/100\n",
      "300/300 [==============================] - 0s 578us/step - loss: 0.0080 - acc: 1.0000 - val_loss: 4.2177 - val_acc: 0.3767\n",
      "Epoch 62/100\n",
      "300/300 [==============================] - 0s 603us/step - loss: 0.0075 - acc: 1.0000 - val_loss: 4.1654 - val_acc: 0.3833\n",
      "Epoch 63/100\n",
      "300/300 [==============================] - 0s 576us/step - loss: 0.0073 - acc: 1.0000 - val_loss: 4.2337 - val_acc: 0.3800\n",
      "Epoch 64/100\n",
      "300/300 [==============================] - 0s 608us/step - loss: 0.0070 - acc: 1.0000 - val_loss: 4.1851 - val_acc: 0.3833\n",
      "Epoch 65/100\n",
      "300/300 [==============================] - 0s 593us/step - loss: 0.0071 - acc: 1.0000 - val_loss: 4.2825 - val_acc: 0.3800\n",
      "Epoch 66/100\n",
      "300/300 [==============================] - 0s 619us/step - loss: 0.0069 - acc: 1.0000 - val_loss: 4.2261 - val_acc: 0.3833\n",
      "Epoch 67/100\n",
      "300/300 [==============================] - 0s 655us/step - loss: 0.0066 - acc: 1.0000 - val_loss: 4.2742 - val_acc: 0.3767\n",
      "Epoch 68/100\n",
      "300/300 [==============================] - 0s 587us/step - loss: 0.0063 - acc: 1.0000 - val_loss: 4.2923 - val_acc: 0.3833\n",
      "Epoch 69/100\n",
      "300/300 [==============================] - 0s 611us/step - loss: 0.0061 - acc: 1.0000 - val_loss: 4.3125 - val_acc: 0.3800\n",
      "Epoch 70/100\n",
      "300/300 [==============================] - 0s 593us/step - loss: 0.0058 - acc: 1.0000 - val_loss: 4.3074 - val_acc: 0.3833\n",
      "Epoch 71/100\n",
      "300/300 [==============================] - 0s 603us/step - loss: 0.0058 - acc: 1.0000 - val_loss: 4.3490 - val_acc: 0.3800\n",
      "Epoch 72/100\n",
      "300/300 [==============================] - 0s 624us/step - loss: 0.0057 - acc: 1.0000 - val_loss: 4.3148 - val_acc: 0.3833\n",
      "Epoch 73/100\n",
      "300/300 [==============================] - 0s 622us/step - loss: 0.0056 - acc: 1.0000 - val_loss: 4.3294 - val_acc: 0.3800\n",
      "Epoch 74/100\n",
      "300/300 [==============================] - 0s 601us/step - loss: 0.0053 - acc: 1.0000 - val_loss: 4.3765 - val_acc: 0.3800\n",
      "Epoch 75/100\n",
      "300/300 [==============================] - 0s 615us/step - loss: 0.0052 - acc: 1.0000 - val_loss: 4.3612 - val_acc: 0.3833\n",
      "Epoch 76/100\n",
      "300/300 [==============================] - 0s 616us/step - loss: 0.0053 - acc: 1.0000 - val_loss: 4.3939 - val_acc: 0.3833\n",
      "Epoch 77/100\n",
      "300/300 [==============================] - 0s 608us/step - loss: 0.0051 - acc: 1.0000 - val_loss: 4.4545 - val_acc: 0.3767\n",
      "Epoch 78/100\n",
      "300/300 [==============================] - 0s 624us/step - loss: 0.0053 - acc: 1.0000 - val_loss: 4.3708 - val_acc: 0.3833\n",
      "Epoch 79/100\n",
      "300/300 [==============================] - 0s 594us/step - loss: 0.0052 - acc: 1.0000 - val_loss: 4.4338 - val_acc: 0.3833\n",
      "Epoch 80/100\n",
      "300/300 [==============================] - 0s 588us/step - loss: 0.0052 - acc: 1.0000 - val_loss: 4.4871 - val_acc: 0.3767\n",
      "Epoch 81/100\n",
      "300/300 [==============================] - 0s 597us/step - loss: 0.0046 - acc: 1.0000 - val_loss: 4.4237 - val_acc: 0.3833\n",
      "Epoch 82/100\n",
      "300/300 [==============================] - 0s 591us/step - loss: 0.0044 - acc: 1.0000 - val_loss: 4.4853 - val_acc: 0.3767\n",
      "Epoch 83/100\n",
      "300/300 [==============================] - 0s 604us/step - loss: 0.0043 - acc: 1.0000 - val_loss: 4.4696 - val_acc: 0.3833\n",
      "Epoch 84/100\n",
      "300/300 [==============================] - 0s 679us/step - loss: 0.0041 - acc: 1.0000 - val_loss: 4.4971 - val_acc: 0.3833\n",
      "Epoch 85/100\n",
      "300/300 [==============================] - 0s 595us/step - loss: 0.0041 - acc: 1.0000 - val_loss: 4.5285 - val_acc: 0.3800\n",
      "Epoch 86/100\n",
      "300/300 [==============================] - 0s 643us/step - loss: 0.0040 - acc: 1.0000 - val_loss: 4.5201 - val_acc: 0.3833\n",
      "Epoch 87/100\n",
      "300/300 [==============================] - 0s 597us/step - loss: 0.0040 - acc: 1.0000 - val_loss: 4.5221 - val_acc: 0.3833\n",
      "Epoch 88/100\n",
      "300/300 [==============================] - 0s 598us/step - loss: 0.0038 - acc: 1.0000 - val_loss: 4.5255 - val_acc: 0.3833\n",
      "Epoch 89/100\n",
      "300/300 [==============================] - 0s 609us/step - loss: 0.0037 - acc: 1.0000 - val_loss: 4.5504 - val_acc: 0.3833\n",
      "Epoch 90/100\n",
      "300/300 [==============================] - 0s 663us/step - loss: 0.0036 - acc: 1.0000 - val_loss: 4.5517 - val_acc: 0.3833\n",
      "Epoch 91/100\n",
      "300/300 [==============================] - 0s 602us/step - loss: 0.0035 - acc: 1.0000 - val_loss: 4.6101 - val_acc: 0.3767\n",
      "Epoch 92/100\n",
      "300/300 [==============================] - 0s 626us/step - loss: 0.0037 - acc: 1.0000 - val_loss: 4.5592 - val_acc: 0.3833\n",
      "Epoch 93/100\n",
      "300/300 [==============================] - 0s 598us/step - loss: 0.0034 - acc: 1.0000 - val_loss: 4.6279 - val_acc: 0.3767\n",
      "Epoch 94/100\n",
      "300/300 [==============================] - 0s 544us/step - loss: 0.0034 - acc: 1.0000 - val_loss: 4.5766 - val_acc: 0.3833\n",
      "Epoch 95/100\n",
      "300/300 [==============================] - 0s 618us/step - loss: 0.0033 - acc: 1.0000 - val_loss: 4.6195 - val_acc: 0.3800\n",
      "Epoch 96/100\n",
      "300/300 [==============================] - 0s 365us/step - loss: 0.0032 - acc: 1.0000 - val_loss: 4.6543 - val_acc: 0.3833\n",
      "Epoch 97/100\n",
      "300/300 [==============================] - 0s 438us/step - loss: 0.0031 - acc: 1.0000 - val_loss: 4.6328 - val_acc: 0.3800\n",
      "Epoch 98/100\n",
      "300/300 [==============================] - 0s 417us/step - loss: 0.0030 - acc: 1.0000 - val_loss: 4.6410 - val_acc: 0.3767\n",
      "Epoch 99/100\n",
      "300/300 [==============================] - 0s 407us/step - loss: 0.0030 - acc: 1.0000 - val_loss: 4.6395 - val_acc: 0.3833\n",
      "Epoch 100/100\n",
      "300/300 [==============================] - 0s 357us/step - loss: 0.0029 - acc: 1.0000 - val_loss: 4.6789 - val_acc: 0.3800\n"
     ]
    },
    {
     "data": {
      "text/plain": [
       "<keras.callbacks.History at 0x1f84a1b8080>"
      ]
     },
     "execution_count": 57,
     "metadata": {},
     "output_type": "execute_result"
    }
   ],
   "source": [
    "# Creating a model with the adam optimizer :\n",
    "model1 = Sequential()\n",
    "model1.add(Dense(32,activation = 'relu', input_shape = (X_train.shape[1],)))\n",
    "model1.add(Dense(3, activation = 'softmax'))\n",
    "model1.compile(optimizer = 'adam', loss = 'categorical_crossentropy', metrics =['accuracy'])\n",
    "model1.fit(X_train, Y_train, batch_size = 32, epochs = 100, validation_data=(X_test,Y_test))"
   ]
  },
  {
   "cell_type": "code",
   "execution_count": 58,
   "metadata": {},
   "outputs": [
    {
     "name": "stdout",
     "output_type": "stream",
     "text": [
      "_________________________________________________________________\n",
      "Layer (type)                 Output Shape              Param #   \n",
      "=================================================================\n",
      "dense_55 (Dense)             (None, 32)                165920    \n",
      "_________________________________________________________________\n",
      "dense_56 (Dense)             (None, 3)                 99        \n",
      "=================================================================\n",
      "Total params: 166,019\n",
      "Trainable params: 166,019\n",
      "Non-trainable params: 0\n",
      "_________________________________________________________________\n"
     ]
    }
   ],
   "source": [
    "model.summary()"
   ]
  },
  {
   "cell_type": "code",
   "execution_count": 59,
   "metadata": {},
   "outputs": [
    {
     "name": "stdout",
     "output_type": "stream",
     "text": [
      "category of X with sgd: 2\n",
      "category of X with adam: 2\n"
     ]
    }
   ],
   "source": [
    "X_test = generate_a_disk()\n",
    "X_test = X_test.reshape(1, X_test.shape[0])\n",
    "print('category of X with sgd:',np.argmax(model.predict(X_test))+1)\n",
    "print('category of X with adam:',np.argmax(model1.predict(X_test))+1)"
   ]
  },
  {
   "cell_type": "markdown",
   "metadata": {},
   "source": [
    "## 4- Visualization of the Solution\n"
   ]
  },
  {
   "cell_type": "markdown",
   "metadata": {},
   "source": [
    "**We would like to visualize the weights of the linear classifier. Check the output of the function \n",
    "model.get_weights(): The first part corresponds to the matrix of the classifier. Its columns have\n",
    "the same size as the input images, because Keras uses vector-matrix multiplications instead of matrixvector\n",
    "multiplications. Visualize the 3 columns as images**"
   ]
  },
  {
   "cell_type": "code",
   "execution_count": 60,
   "metadata": {},
   "outputs": [
    {
     "name": "stdout",
     "output_type": "stream",
     "text": [
      "(5184, 32)\n",
      "biases (32,)\n",
      "(32, 3)\n",
      "biases (3,)\n"
     ]
    }
   ],
   "source": [
    "#Let's check the shapes\n",
    "print(model.get_weights()[0].shape)\n",
    "print('biases',model.get_weights()[1].shape)\n",
    "print(model.get_weights()[2].shape)\n",
    "print('biases',model.get_weights()[3].shape)\n",
    "#Let's vizualize the weights for the model with adam optimizer \n",
    "column1=model1.get_weights()[0]\n",
    "column2=model1.get_weights()[2]\n",
    "image=column1.dot(column2)\n"
   ]
  },
  {
   "cell_type": "code",
   "execution_count": 61,
   "metadata": {},
   "outputs": [
    {
     "data": {
      "text/plain": [
       "<matplotlib.image.AxesImage at 0x1f877a273c8>"
      ]
     },
     "execution_count": 61,
     "metadata": {},
     "output_type": "execute_result"
    },
    {
     "data": {
      "image/png": "[encoded data removed]",
      "text/plain": [
       "<Figure size 432x288 with 3 Axes>"
      ]
     },
     "metadata": {
      "needs_background": "light"
     },
     "output_type": "display_data"
    }
   ],
   "source": [
    "plt.subplot(331)\n",
    "plt.imshow(image[:,0].reshape(72,72), cmap='gray')\n",
    "plt.subplot(332)\n",
    "plt.imshow(image[:,1].reshape(72,72), cmap='gray')\n",
    "plt.subplot(333)\n",
    "plt.imshow(image[:,2].reshape(72,72), cmap='gray')"
   ]
  },
  {
   "cell_type": "markdown",
   "metadata": {},
   "source": [
    "## 5- A More Difficult Classification Problem"
   ]
  },
  {
   "cell_type": "code",
   "execution_count": 62,
   "metadata": {},
   "outputs": [
    {
     "name": "stdout",
     "output_type": "stream",
     "text": [
      "Creating data:\n",
      "Creating data:\n"
     ]
    }
   ],
   "source": [
    "[X_train_n, Y_train_n] = generate_dataset_classification(300, 20, True)\n",
    "[X_test_n, Y_test_n] = generate_test_set_classification()\n",
    "Y_train_n = np_utils.to_categorical(Y_train_n, 3)"
   ]
  },
  {
   "cell_type": "code",
   "execution_count": 63,
   "metadata": {},
   "outputs": [
    {
     "name": "stdout",
     "output_type": "stream",
     "text": [
      "(300, 5184)\n"
     ]
    }
   ],
   "source": [
    "print(X_train_n.shape)"
   ]
  },
  {
   "cell_type": "code",
   "execution_count": 64,
   "metadata": {},
   "outputs": [
    {
     "name": "stdout",
     "output_type": "stream",
     "text": [
      "Train on 300 samples, validate on 300 samples\n",
      "Epoch 1/100\n",
      "300/300 [==============================] - 0s 235us/step - loss: 4.8926 - acc: 0.3833 - val_loss: 2.9791 - val_acc: 0.3467\n",
      "Epoch 2/100\n",
      "300/300 [==============================] - 0s 223us/step - loss: 1.3926 - acc: 0.3167 - val_loss: 1.0986 - val_acc: 0.3400\n",
      "Epoch 3/100\n",
      "300/300 [==============================] - 0s 196us/step - loss: 1.0988 - acc: 0.2833 - val_loss: 1.0986 - val_acc: 0.3300\n",
      "Epoch 4/100\n",
      "300/300 [==============================] - 0s 251us/step - loss: 1.0984 - acc: 0.3667 - val_loss: 1.0987 - val_acc: 0.3300\n",
      "Epoch 5/100\n",
      "300/300 [==============================] - 0s 375us/step - loss: 1.0982 - acc: 0.3667 - val_loss: 1.0988 - val_acc: 0.3300\n",
      "Epoch 6/100\n",
      "300/300 [==============================] - 0s 398us/step - loss: 1.0979 - acc: 0.3667 - val_loss: 1.0988 - val_acc: 0.3300\n",
      "Epoch 7/100\n",
      "300/300 [==============================] - 0s 432us/step - loss: 1.0977 - acc: 0.3667 - val_loss: 1.0990 - val_acc: 0.3300\n",
      "Epoch 8/100\n",
      "300/300 [==============================] - 0s 484us/step - loss: 1.0973 - acc: 0.3667 - val_loss: 1.0991 - val_acc: 0.3300\n",
      "Epoch 9/100\n",
      "300/300 [==============================] - 0s 484us/step - loss: 1.0970 - acc: 0.3667 - val_loss: 1.0992 - val_acc: 0.3300\n",
      "Epoch 10/100\n",
      "300/300 [==============================] - 0s 560us/step - loss: 1.0969 - acc: 0.3667 - val_loss: 1.0993 - val_acc: 0.3300\n",
      "Epoch 11/100\n",
      "300/300 [==============================] - 0s 510us/step - loss: 1.0967 - acc: 0.3667 - val_loss: 1.0994 - val_acc: 0.3300\n",
      "Epoch 12/100\n",
      "300/300 [==============================] - 0s 437us/step - loss: 1.0966 - acc: 0.3667 - val_loss: 1.0996 - val_acc: 0.3300\n",
      "Epoch 13/100\n",
      "300/300 [==============================] - 0s 397us/step - loss: 1.0964 - acc: 0.3667 - val_loss: 1.0997 - val_acc: 0.3300\n",
      "Epoch 14/100\n",
      "300/300 [==============================] - 0s 360us/step - loss: 1.0963 - acc: 0.3667 - val_loss: 1.0998 - val_acc: 0.3300\n",
      "Epoch 15/100\n",
      "300/300 [==============================] - 0s 378us/step - loss: 1.0962 - acc: 0.3667 - val_loss: 1.0999 - val_acc: 0.3300\n",
      "Epoch 16/100\n",
      "300/300 [==============================] - 0s 555us/step - loss: 1.0962 - acc: 0.3667 - val_loss: 1.1001 - val_acc: 0.3300\n",
      "Epoch 17/100\n",
      "300/300 [==============================] - 0s 555us/step - loss: 1.0960 - acc: 0.3667 - val_loss: 1.1002 - val_acc: 0.3300\n",
      "Epoch 18/100\n",
      "300/300 [==============================] - 0s 561us/step - loss: 1.0959 - acc: 0.3667 - val_loss: 1.1003 - val_acc: 0.3300\n",
      "Epoch 19/100\n",
      "300/300 [==============================] - 0s 533us/step - loss: 1.0959 - acc: 0.3667 - val_loss: 1.1004 - val_acc: 0.3300\n",
      "Epoch 20/100\n",
      "300/300 [==============================] - 0s 509us/step - loss: 1.0958 - acc: 0.3667 - val_loss: 1.1005 - val_acc: 0.3300\n",
      "Epoch 21/100\n",
      "300/300 [==============================] - 0s 504us/step - loss: 1.0957 - acc: 0.3667 - val_loss: 1.1006 - val_acc: 0.3300\n",
      "Epoch 22/100\n",
      "300/300 [==============================] - 0s 553us/step - loss: 1.0957 - acc: 0.3667 - val_loss: 1.1008 - val_acc: 0.3300\n",
      "Epoch 23/100\n",
      "300/300 [==============================] - 0s 509us/step - loss: 1.0956 - acc: 0.3667 - val_loss: 1.1010 - val_acc: 0.3300\n",
      "Epoch 24/100\n",
      "300/300 [==============================] - 0s 506us/step - loss: 1.0957 - acc: 0.3667 - val_loss: 1.1011 - val_acc: 0.3300\n",
      "Epoch 25/100\n",
      "300/300 [==============================] - 0s 508us/step - loss: 1.0956 - acc: 0.3667 - val_loss: 1.1011 - val_acc: 0.3300\n",
      "Epoch 26/100\n",
      "300/300 [==============================] - 0s 531us/step - loss: 1.0955 - acc: 0.3667 - val_loss: 1.1012 - val_acc: 0.3300\n",
      "Epoch 27/100\n",
      "300/300 [==============================] - 0s 518us/step - loss: 1.0956 - acc: 0.3667 - val_loss: 1.1013 - val_acc: 0.3300\n",
      "Epoch 28/100\n",
      "300/300 [==============================] - 0s 511us/step - loss: 1.0955 - acc: 0.3667 - val_loss: 1.1013 - val_acc: 0.3300\n",
      "Epoch 29/100\n",
      "300/300 [==============================] - 0s 505us/step - loss: 1.0956 - acc: 0.3667 - val_loss: 1.1013 - val_acc: 0.3300\n",
      "Epoch 30/100\n",
      "300/300 [==============================] - 0s 467us/step - loss: 1.0955 - acc: 0.3667 - val_loss: 1.1013 - val_acc: 0.3300\n",
      "Epoch 31/100\n",
      "300/300 [==============================] - 0s 484us/step - loss: 1.0955 - acc: 0.3667 - val_loss: 1.1014 - val_acc: 0.3300\n",
      "Epoch 32/100\n",
      "300/300 [==============================] - 0s 485us/step - loss: 1.0956 - acc: 0.3667 - val_loss: 1.1014 - val_acc: 0.3300\n",
      "Epoch 33/100\n",
      "300/300 [==============================] - 0s 469us/step - loss: 1.0955 - acc: 0.3667 - val_loss: 1.1015 - val_acc: 0.3300\n",
      "Epoch 34/100\n",
      "300/300 [==============================] - 0s 522us/step - loss: 1.0954 - acc: 0.3667 - val_loss: 1.1015 - val_acc: 0.3300\n",
      "Epoch 35/100\n",
      "300/300 [==============================] - 0s 476us/step - loss: 1.0954 - acc: 0.3667 - val_loss: 1.1015 - val_acc: 0.3300\n",
      "Epoch 36/100\n",
      "300/300 [==============================] - 0s 473us/step - loss: 1.0955 - acc: 0.3667 - val_loss: 1.1016 - val_acc: 0.3300\n",
      "Epoch 37/100\n",
      "300/300 [==============================] - 0s 495us/step - loss: 1.0954 - acc: 0.3667 - val_loss: 1.1017 - val_acc: 0.3300\n",
      "Epoch 38/100\n",
      "300/300 [==============================] - 0s 469us/step - loss: 1.0954 - acc: 0.3667 - val_loss: 1.1018 - val_acc: 0.3300\n",
      "Epoch 39/100\n",
      "300/300 [==============================] - 0s 499us/step - loss: 1.0954 - acc: 0.3667 - val_loss: 1.1018 - val_acc: 0.3300\n",
      "Epoch 40/100\n",
      "300/300 [==============================] - 0s 545us/step - loss: 1.0954 - acc: 0.3667 - val_loss: 1.1019 - val_acc: 0.3300\n",
      "Epoch 41/100\n",
      "300/300 [==============================] - 0s 567us/step - loss: 1.0954 - acc: 0.3667 - val_loss: 1.1021 - val_acc: 0.3300\n",
      "Epoch 42/100\n",
      "300/300 [==============================] - 0s 532us/step - loss: 1.0954 - acc: 0.3667 - val_loss: 1.1021 - val_acc: 0.3300\n",
      "Epoch 43/100\n",
      "300/300 [==============================] - 0s 522us/step - loss: 1.0953 - acc: 0.3667 - val_loss: 1.1022 - val_acc: 0.3300\n",
      "Epoch 44/100\n",
      "300/300 [==============================] - 0s 570us/step - loss: 1.0953 - acc: 0.3667 - val_loss: 1.1023 - val_acc: 0.3300\n",
      "Epoch 45/100\n",
      "300/300 [==============================] - 0s 546us/step - loss: 1.0953 - acc: 0.3667 - val_loss: 1.1024 - val_acc: 0.3300\n",
      "Epoch 46/100\n",
      "300/300 [==============================] - 0s 517us/step - loss: 1.0953 - acc: 0.3667 - val_loss: 1.1024 - val_acc: 0.3300\n",
      "Epoch 47/100\n",
      "300/300 [==============================] - 0s 506us/step - loss: 1.0953 - acc: 0.3667 - val_loss: 1.1024 - val_acc: 0.3300\n",
      "Epoch 48/100\n",
      "300/300 [==============================] - 0s 469us/step - loss: 1.0953 - acc: 0.3667 - val_loss: 1.1025 - val_acc: 0.3300\n",
      "Epoch 49/100\n",
      "300/300 [==============================] - 0s 492us/step - loss: 1.0953 - acc: 0.3667 - val_loss: 1.1026 - val_acc: 0.3300\n",
      "Epoch 50/100\n",
      "300/300 [==============================] - 0s 464us/step - loss: 1.0953 - acc: 0.3667 - val_loss: 1.1027 - val_acc: 0.3300\n",
      "Epoch 51/100\n",
      "300/300 [==============================] - 0s 540us/step - loss: 1.0953 - acc: 0.3667 - val_loss: 1.1027 - val_acc: 0.3300\n",
      "Epoch 52/100\n",
      "300/300 [==============================] - 0s 481us/step - loss: 1.0953 - acc: 0.3667 - val_loss: 1.1027 - val_acc: 0.3300\n",
      "Epoch 53/100\n",
      "300/300 [==============================] - 0s 478us/step - loss: 1.0953 - acc: 0.3667 - val_loss: 1.1026 - val_acc: 0.3300\n",
      "Epoch 54/100\n",
      "300/300 [==============================] - 0s 508us/step - loss: 1.0953 - acc: 0.3667 - val_loss: 1.1026 - val_acc: 0.3300\n",
      "Epoch 55/100\n",
      "300/300 [==============================] - 0s 483us/step - loss: 1.0953 - acc: 0.3667 - val_loss: 1.1027 - val_acc: 0.3300\n",
      "Epoch 56/100\n",
      "300/300 [==============================] - 0s 467us/step - loss: 1.0953 - acc: 0.3667 - val_loss: 1.1028 - val_acc: 0.3300\n",
      "Epoch 57/100\n",
      "300/300 [==============================] - 0s 478us/step - loss: 1.0953 - acc: 0.3667 - val_loss: 1.1029 - val_acc: 0.3300\n",
      "Epoch 58/100\n",
      "300/300 [==============================] - 0s 511us/step - loss: 1.0953 - acc: 0.3667 - val_loss: 1.1029 - val_acc: 0.3300\n",
      "Epoch 59/100\n",
      "300/300 [==============================] - 0s 489us/step - loss: 1.0953 - acc: 0.3667 - val_loss: 1.1029 - val_acc: 0.3300\n",
      "Epoch 60/100\n",
      "300/300 [==============================] - 0s 508us/step - loss: 1.0953 - acc: 0.3667 - val_loss: 1.1030 - val_acc: 0.3300\n",
      "Epoch 61/100\n",
      "300/300 [==============================] - 0s 514us/step - loss: 1.0953 - acc: 0.3667 - val_loss: 1.1029 - val_acc: 0.3300\n",
      "Epoch 62/100\n",
      "300/300 [==============================] - 0s 507us/step - loss: 1.0954 - acc: 0.3667 - val_loss: 1.1028 - val_acc: 0.3300\n",
      "Epoch 63/100\n",
      "300/300 [==============================] - 0s 526us/step - loss: 1.0953 - acc: 0.3667 - val_loss: 1.1028 - val_acc: 0.3300\n",
      "Epoch 64/100\n",
      "300/300 [==============================] - 0s 521us/step - loss: 1.0953 - acc: 0.3667 - val_loss: 1.1027 - val_acc: 0.3300\n",
      "Epoch 65/100\n",
      "300/300 [==============================] - 0s 490us/step - loss: 1.0953 - acc: 0.3667 - val_loss: 1.1028 - val_acc: 0.3300\n",
      "Epoch 66/100\n",
      "300/300 [==============================] - 0s 490us/step - loss: 1.0953 - acc: 0.3667 - val_loss: 1.1029 - val_acc: 0.3300\n",
      "Epoch 67/100\n",
      "300/300 [==============================] - 0s 517us/step - loss: 1.0953 - acc: 0.3667 - val_loss: 1.1029 - val_acc: 0.3300\n",
      "Epoch 68/100\n",
      "300/300 [==============================] - 0s 518us/step - loss: 1.0953 - acc: 0.3667 - val_loss: 1.1030 - val_acc: 0.3300\n",
      "Epoch 69/100\n",
      "300/300 [==============================] - 0s 516us/step - loss: 1.0953 - acc: 0.3667 - val_loss: 1.1029 - val_acc: 0.3300\n",
      "Epoch 70/100\n",
      "300/300 [==============================] - 0s 518us/step - loss: 1.0953 - acc: 0.3667 - val_loss: 1.1028 - val_acc: 0.3300\n",
      "Epoch 71/100\n",
      "300/300 [==============================] - 0s 500us/step - loss: 1.0953 - acc: 0.3667 - val_loss: 1.1029 - val_acc: 0.3300\n",
      "Epoch 72/100\n",
      "300/300 [==============================] - 0s 432us/step - loss: 1.0953 - acc: 0.3667 - val_loss: 1.1030 - val_acc: 0.3300\n",
      "Epoch 73/100\n",
      "300/300 [==============================] - 0s 379us/step - loss: 1.0953 - acc: 0.3667 - val_loss: 1.1030 - val_acc: 0.3300\n",
      "Epoch 74/100\n",
      "300/300 [==============================] - 0s 375us/step - loss: 1.0953 - acc: 0.3667 - val_loss: 1.1030 - val_acc: 0.3300\n",
      "Epoch 75/100\n",
      "300/300 [==============================] - 0s 392us/step - loss: 1.0953 - acc: 0.3667 - val_loss: 1.1031 - val_acc: 0.3300\n",
      "Epoch 76/100\n",
      "300/300 [==============================] - 0s 389us/step - loss: 1.0953 - acc: 0.3667 - val_loss: 1.1031 - val_acc: 0.3300\n",
      "Epoch 77/100\n",
      "300/300 [==============================] - 0s 385us/step - loss: 1.0953 - acc: 0.3667 - val_loss: 1.1030 - val_acc: 0.3300\n",
      "Epoch 78/100\n",
      "300/300 [==============================] - 0s 379us/step - loss: 1.0953 - acc: 0.3667 - val_loss: 1.1030 - val_acc: 0.3300\n",
      "Epoch 79/100\n",
      "300/300 [==============================] - 0s 370us/step - loss: 1.0953 - acc: 0.3667 - val_loss: 1.1031 - val_acc: 0.3300\n",
      "Epoch 80/100\n",
      "300/300 [==============================] - 0s 382us/step - loss: 1.0953 - acc: 0.3667 - val_loss: 1.1031 - val_acc: 0.3300\n",
      "Epoch 81/100\n",
      "300/300 [==============================] - 0s 392us/step - loss: 1.0953 - acc: 0.3667 - val_loss: 1.1030 - val_acc: 0.3300\n",
      "Epoch 82/100\n",
      "300/300 [==============================] - 0s 386us/step - loss: 1.0953 - acc: 0.3667 - val_loss: 1.1030 - val_acc: 0.3300\n",
      "Epoch 83/100\n",
      "300/300 [==============================] - 0s 377us/step - loss: 1.0953 - acc: 0.3667 - val_loss: 1.1030 - val_acc: 0.3300\n",
      "Epoch 84/100\n",
      "300/300 [==============================] - 0s 429us/step - loss: 1.0953 - acc: 0.3667 - val_loss: 1.1029 - val_acc: 0.3300\n",
      "Epoch 85/100\n",
      "300/300 [==============================] - 0s 384us/step - loss: 1.0953 - acc: 0.3667 - val_loss: 1.1030 - val_acc: 0.3300\n",
      "Epoch 86/100\n",
      "300/300 [==============================] - 0s 404us/step - loss: 1.0953 - acc: 0.3667 - val_loss: 1.1030 - val_acc: 0.3300\n",
      "Epoch 87/100\n",
      "300/300 [==============================] - 0s 374us/step - loss: 1.0953 - acc: 0.3667 - val_loss: 1.1030 - val_acc: 0.3300\n",
      "Epoch 88/100\n",
      "300/300 [==============================] - 0s 366us/step - loss: 1.0953 - acc: 0.3667 - val_loss: 1.1030 - val_acc: 0.3300\n",
      "Epoch 89/100\n",
      "300/300 [==============================] - 0s 366us/step - loss: 1.0953 - acc: 0.3667 - val_loss: 1.1032 - val_acc: 0.3300\n",
      "Epoch 90/100\n",
      "300/300 [==============================] - 0s 400us/step - loss: 1.0953 - acc: 0.3667 - val_loss: 1.1031 - val_acc: 0.3300\n",
      "Epoch 91/100\n",
      "300/300 [==============================] - 0s 391us/step - loss: 1.0953 - acc: 0.3667 - val_loss: 1.1031 - val_acc: 0.3300\n",
      "Epoch 92/100\n",
      "300/300 [==============================] - 0s 389us/step - loss: 1.0953 - acc: 0.3667 - val_loss: 1.1033 - val_acc: 0.3300\n",
      "Epoch 93/100\n",
      "300/300 [==============================] - 0s 416us/step - loss: 1.0953 - acc: 0.3667 - val_loss: 1.1033 - val_acc: 0.3300\n",
      "Epoch 94/100\n",
      "300/300 [==============================] - 0s 389us/step - loss: 1.0953 - acc: 0.3667 - val_loss: 1.1033 - val_acc: 0.3300\n",
      "Epoch 95/100\n",
      "300/300 [==============================] - 0s 394us/step - loss: 1.0953 - acc: 0.3667 - val_loss: 1.1033 - val_acc: 0.3300\n",
      "Epoch 96/100\n",
      "300/300 [==============================] - 0s 372us/step - loss: 1.0954 - acc: 0.3667 - val_loss: 1.1033 - val_acc: 0.3300\n",
      "Epoch 97/100\n",
      "300/300 [==============================] - 0s 394us/step - loss: 1.0953 - acc: 0.3667 - val_loss: 1.1034 - val_acc: 0.3300\n",
      "Epoch 98/100\n",
      "300/300 [==============================] - 0s 367us/step - loss: 1.0953 - acc: 0.3667 - val_loss: 1.1034 - val_acc: 0.3300\n",
      "Epoch 99/100\n",
      "300/300 [==============================] - 0s 390us/step - loss: 1.0953 - acc: 0.3667 - val_loss: 1.1034 - val_acc: 0.3300\n",
      "Epoch 100/100\n",
      "300/300 [==============================] - 0s 367us/step - loss: 1.0953 - acc: 0.3667 - val_loss: 1.1034 - val_acc: 0.3300\n",
      "300/300 [==============================] - 0s 151us/step\n"
     ]
    }
   ],
   "source": [
    "model1.fit(X_train_n, Y_train_n, batch_size = 32, epochs = 100, validation_data = (X_test_n,Y_test_n))\n",
    "score = model1.evaluate(X_test_n, Y_test_n)"
   ]
  },
  {
   "cell_type": "code",
   "execution_count": 65,
   "metadata": {},
   "outputs": [],
   "source": [
    "from keras.layers import Dense\n",
    "from keras.layers import Conv2D, MaxPooling2D,Activation\n",
    "from keras.layers import Dropout\n",
    "from keras.layers import Flatten"
   ]
  },
  {
   "cell_type": "code",
   "execution_count": 66,
   "metadata": {},
   "outputs": [],
   "source": [
    "model2 = Sequential()\n",
    "model2.add(Conv2D(16,(5,5), activation='relu', input_shape=(72,72,1))) #filters\n",
    "model2.add(MaxPooling2D(pool_size=(2,2))) #pooling layer\n",
    "model2.add(Dropout(0.25))\n",
    "model2.add(Flatten())\n",
    "model2.add(Dense(128))\n",
    "model2.add(Activation('relu'))\n",
    "model2.add(Dropout(0.5))\n",
    "model2.add(Dense(3))\n",
    "model2.add(Activation('softmax'))"
   ]
  },
  {
   "cell_type": "code",
   "execution_count": 67,
   "metadata": {},
   "outputs": [
    {
     "name": "stdout",
     "output_type": "stream",
     "text": [
      "(300, 72, 72, 1)\n",
      "Train on 300 samples, validate on 300 samples\n",
      "Epoch 1/50\n",
      "300/300 [==============================] - 3s 10ms/step - loss: 1.2312 - acc: 0.3800 - val_loss: 0.9830 - val_acc: 0.5533\n",
      "Epoch 2/50\n",
      "300/300 [==============================] - 2s 5ms/step - loss: 0.9154 - acc: 0.5700 - val_loss: 0.9010 - val_acc: 0.6033\n",
      "Epoch 3/50\n",
      "300/300 [==============================] - 1s 5ms/step - loss: 0.7601 - acc: 0.6933 - val_loss: 0.8117 - val_acc: 0.6233\n",
      "Epoch 4/50\n",
      "300/300 [==============================] - 1s 4ms/step - loss: 0.5935 - acc: 0.7600 - val_loss: 0.7164 - val_acc: 0.6900\n",
      "Epoch 5/50\n",
      "300/300 [==============================] - 1s 5ms/step - loss: 0.4541 - acc: 0.8233 - val_loss: 0.7020 - val_acc: 0.7067\n",
      "Epoch 6/50\n",
      "300/300 [==============================] - 2s 5ms/step - loss: 0.3518 - acc: 0.8933 - val_loss: 0.6934 - val_acc: 0.6867\n",
      "Epoch 7/50\n",
      "300/300 [==============================] - 1s 5ms/step - loss: 0.2720 - acc: 0.9200 - val_loss: 0.7145 - val_acc: 0.7200\n",
      "Epoch 8/50\n",
      "300/300 [==============================] - 1s 5ms/step - loss: 0.1911 - acc: 0.9533 - val_loss: 0.7196 - val_acc: 0.7233\n",
      "Epoch 9/50\n",
      "300/300 [==============================] - 1s 5ms/step - loss: 0.1467 - acc: 0.9767 - val_loss: 0.8222 - val_acc: 0.7000\n",
      "Epoch 10/50\n",
      "300/300 [==============================] - 1s 5ms/step - loss: 0.1289 - acc: 0.9767 - val_loss: 0.7263 - val_acc: 0.7200\n",
      "Epoch 11/50\n",
      "300/300 [==============================] - 1s 5ms/step - loss: 0.1024 - acc: 0.9800 - val_loss: 0.7729 - val_acc: 0.7133\n",
      "Epoch 12/50\n",
      "300/300 [==============================] - 1s 5ms/step - loss: 0.0870 - acc: 0.9800 - val_loss: 0.8115 - val_acc: 0.7333\n",
      "Epoch 13/50\n",
      "300/300 [==============================] - 1s 5ms/step - loss: 0.0660 - acc: 0.9967 - val_loss: 0.7865 - val_acc: 0.7200\n",
      "Epoch 14/50\n",
      "300/300 [==============================] - 1s 5ms/step - loss: 0.0440 - acc: 1.0000 - val_loss: 0.8156 - val_acc: 0.7300\n",
      "Epoch 15/50\n",
      "300/300 [==============================] - 2s 5ms/step - loss: 0.0341 - acc: 1.0000 - val_loss: 0.8063 - val_acc: 0.7300\n",
      "Epoch 16/50\n",
      "300/300 [==============================] - 2s 5ms/step - loss: 0.0245 - acc: 1.0000 - val_loss: 0.8431 - val_acc: 0.7167\n",
      "Epoch 17/50\n",
      "300/300 [==============================] - 1s 5ms/step - loss: 0.0234 - acc: 1.0000 - val_loss: 0.8227 - val_acc: 0.7267\n",
      "Epoch 18/50\n",
      "300/300 [==============================] - 1s 5ms/step - loss: 0.0170 - acc: 1.0000 - val_loss: 0.9045 - val_acc: 0.7300\n",
      "Epoch 19/50\n",
      "300/300 [==============================] - 1s 4ms/step - loss: 0.0135 - acc: 1.0000 - val_loss: 0.8532 - val_acc: 0.7300\n",
      "Epoch 20/50\n",
      "300/300 [==============================] - 1s 5ms/step - loss: 0.0158 - acc: 1.0000 - val_loss: 0.9176 - val_acc: 0.7267\n",
      "Epoch 21/50\n",
      "300/300 [==============================] - 1s 4ms/step - loss: 0.0123 - acc: 1.0000 - val_loss: 0.8503 - val_acc: 0.7367\n",
      "Epoch 22/50\n",
      "300/300 [==============================] - 2s 5ms/step - loss: 0.0122 - acc: 1.0000 - val_loss: 0.8753 - val_acc: 0.7467\n",
      "Epoch 23/50\n",
      "300/300 [==============================] - 1s 5ms/step - loss: 0.0100 - acc: 1.0000 - val_loss: 0.9383 - val_acc: 0.7333\n",
      "Epoch 24/50\n",
      "300/300 [==============================] - 1s 5ms/step - loss: 0.0086 - acc: 1.0000 - val_loss: 0.9254 - val_acc: 0.7433\n",
      "Epoch 25/50\n",
      "300/300 [==============================] - 2s 5ms/step - loss: 0.0078 - acc: 1.0000 - val_loss: 0.9261 - val_acc: 0.7333\n",
      "Epoch 26/50\n",
      "300/300 [==============================] - 1s 5ms/step - loss: 0.0071 - acc: 1.0000 - val_loss: 0.9635 - val_acc: 0.7200\n",
      "Epoch 27/50\n",
      "300/300 [==============================] - 1s 5ms/step - loss: 0.0090 - acc: 1.0000 - val_loss: 0.9433 - val_acc: 0.7467\n",
      "Epoch 28/50\n",
      "300/300 [==============================] - 1s 5ms/step - loss: 0.0122 - acc: 0.9967 - val_loss: 0.9297 - val_acc: 0.7500\n",
      "Epoch 29/50\n",
      "300/300 [==============================] - 2s 5ms/step - loss: 0.0047 - acc: 1.0000 - val_loss: 1.0016 - val_acc: 0.7300\n",
      "Epoch 30/50\n",
      "300/300 [==============================] - 2s 5ms/step - loss: 0.0045 - acc: 1.0000 - val_loss: 0.9470 - val_acc: 0.7433\n",
      "Epoch 31/50\n",
      "300/300 [==============================] - 1s 5ms/step - loss: 0.0054 - acc: 1.0000 - val_loss: 1.0755 - val_acc: 0.7267\n",
      "Epoch 32/50\n",
      "300/300 [==============================] - 2s 6ms/step - loss: 0.0073 - acc: 1.0000 - val_loss: 0.9379 - val_acc: 0.7400\n",
      "Epoch 33/50\n",
      "300/300 [==============================] - 2s 6ms/step - loss: 0.0066 - acc: 1.0000 - val_loss: 0.9484 - val_acc: 0.7300\n",
      "Epoch 34/50\n",
      "300/300 [==============================] - 2s 6ms/step - loss: 0.0066 - acc: 1.0000 - val_loss: 1.0608 - val_acc: 0.7233\n",
      "Epoch 35/50\n",
      "300/300 [==============================] - 2s 5ms/step - loss: 0.0088 - acc: 1.0000 - val_loss: 0.9925 - val_acc: 0.7133\n",
      "Epoch 36/50\n",
      "300/300 [==============================] - 2s 5ms/step - loss: 0.0033 - acc: 1.0000 - val_loss: 1.0093 - val_acc: 0.7133\n",
      "Epoch 37/50\n",
      "300/300 [==============================] - 2s 5ms/step - loss: 0.0053 - acc: 1.0000 - val_loss: 0.9843 - val_acc: 0.7367\n",
      "Epoch 38/50\n",
      "300/300 [==============================] - 2s 5ms/step - loss: 0.0038 - acc: 1.0000 - val_loss: 1.0118 - val_acc: 0.7300\n",
      "Epoch 39/50\n",
      "300/300 [==============================] - 2s 5ms/step - loss: 0.0043 - acc: 1.0000 - val_loss: 1.0727 - val_acc: 0.7333\n",
      "Epoch 40/50\n",
      "300/300 [==============================] - 2s 5ms/step - loss: 0.0040 - acc: 1.0000 - val_loss: 0.9774 - val_acc: 0.7467\n",
      "Epoch 41/50\n",
      "300/300 [==============================] - 2s 6ms/step - loss: 0.0038 - acc: 1.0000 - val_loss: 1.0992 - val_acc: 0.7200\n",
      "Epoch 42/50\n",
      "300/300 [==============================] - 2s 6ms/step - loss: 0.0047 - acc: 1.0000 - val_loss: 1.0057 - val_acc: 0.7267\n",
      "Epoch 43/50\n",
      "300/300 [==============================] - 2s 5ms/step - loss: 0.0042 - acc: 1.0000 - val_loss: 1.0375 - val_acc: 0.7200\n",
      "Epoch 44/50\n",
      "300/300 [==============================] - 2s 5ms/step - loss: 0.0024 - acc: 1.0000 - val_loss: 1.0120 - val_acc: 0.7300\n",
      "Epoch 45/50\n",
      "300/300 [==============================] - 2s 5ms/step - loss: 0.0020 - acc: 1.0000 - val_loss: 1.0457 - val_acc: 0.7233\n",
      "Epoch 46/50\n",
      "300/300 [==============================] - 2s 6ms/step - loss: 0.0035 - acc: 1.0000 - val_loss: 1.0817 - val_acc: 0.7233\n",
      "Epoch 47/50\n",
      "300/300 [==============================] - 2s 5ms/step - loss: 0.0023 - acc: 1.0000 - val_loss: 1.0630 - val_acc: 0.7233\n",
      "Epoch 48/50\n",
      "300/300 [==============================] - 2s 6ms/step - loss: 0.0029 - acc: 1.0000 - val_loss: 1.1034 - val_acc: 0.7200\n",
      "Epoch 49/50\n",
      "300/300 [==============================] - 2s 5ms/step - loss: 0.0021 - acc: 1.0000 - val_loss: 1.0628 - val_acc: 0.7333\n",
      "Epoch 50/50\n",
      "300/300 [==============================] - 2s 6ms/step - loss: 0.0040 - acc: 1.0000 - val_loss: 1.1916 - val_acc: 0.7233\n",
      "300/300 [==============================] - 0s 1ms/step\n"
     ]
    }
   ],
   "source": [
    "#Reshape Input\n",
    "X_train_n = X_train_n.reshape(X_train_n.shape[0], 72, 72, -1)\n",
    "X_train_n = X_train_n.astype('float32')\n",
    "print(X_train_n.shape)\n",
    "X_test_n = X_test_n.reshape(X_test_n.shape[0], 72, 72, -1)\n",
    "X_test_n = X_test_n.astype('float32')\n",
    "\n",
    "model2.compile(optimizer='adam', loss='categorical_crossentropy', metrics=['accuracy'])\n",
    "model2.fit(X_train_n, Y_train_n, batch_size = 32, epochs = 50, validation_data = (X_test_n,Y_test_n))\n",
    "score2 = model2.evaluate(X_test_n, Y_test_n)"
   ]
  },
  {
   "cell_type": "code",
   "execution_count": 68,
   "metadata": {},
   "outputs": [
    {
     "name": "stdout",
     "output_type": "stream",
     "text": [
      "300/300 [==============================] - 0s 1ms/step\n"
     ]
    }
   ],
   "source": [
    "eval=model2.evaluate(X_test_n, Y_test_n)"
   ]
  },
  {
   "cell_type": "markdown",
   "metadata": {},
   "source": [
    "**What is the value of the loss function on this test set when using your deep network?**\n"
   ]
  },
  {
   "cell_type": "code",
   "execution_count": 70,
   "metadata": {},
   "outputs": [
    {
     "name": "stdout",
     "output_type": "stream",
     "text": [
      "loss function: 1.1915542888641357\n"
     ]
    }
   ],
   "source": [
    "print('loss function:',eval[0])"
   ]
  },
  {
   "cell_type": "markdown",
   "metadata": {},
   "source": [
    "## 6- A Regression Problem"
   ]
  },
  {
   "cell_type": "code",
   "execution_count": 71,
   "metadata": {},
   "outputs": [
    {
     "name": "stdout",
     "output_type": "stream",
     "text": [
      "Creating data:\n"
     ]
    },
    {
     "data": {
      "image/png": "[encoded data removed]",
      "text/plain": [
       "<Figure size 360x360 with 1 Axes>"
      ]
     },
     "metadata": {
      "needs_background": "light"
     },
     "output_type": "display_data"
    }
   ],
   "source": [
    "[X_train_b, Y_train_b] = generate_dataset_regression(300, 20)\n",
    "visualize_prediction(X_train_b[0], Y_train_b[0])"
   ]
  },
  {
   "cell_type": "code",
   "execution_count": 72,
   "metadata": {},
   "outputs": [
    {
     "name": "stdout",
     "output_type": "stream",
     "text": [
      "Creating data:\n"
     ]
    }
   ],
   "source": [
    "[X_test_b, Y_test_b] = generate_test_set_regression()\n"
   ]
  },
  {
   "cell_type": "code",
   "execution_count": 73,
   "metadata": {},
   "outputs": [],
   "source": [
    "X_train_b = X_train_b.reshape(X_train_b.shape[0], 72, 72, 1)\n",
    "# X_train_b = X_train_b.astype('float32')\n",
    "X_test_b = X_test_b.reshape(X_test_b.shape[0], 72, 72, 1)\n",
    "# X_test_b = X_test_b.astype('float32')\n"
   ]
  },
  {
   "cell_type": "code",
   "execution_count": 74,
   "metadata": {},
   "outputs": [
    {
     "name": "stdout",
     "output_type": "stream",
     "text": [
      "Train on 300 samples, validate on 300 samples\n",
      "Epoch 1/20\n",
      "300/300 [==============================] - 7s 23ms/step - loss: 0.1660 - acc: 0.1567 - val_loss: 0.1255 - val_acc: 0.1633\n",
      "\n",
      "Epoch 00001: val_loss improved from inf to 0.12550, saving model to model-001.h5\n",
      "Epoch 2/20\n",
      "300/300 [==============================] - 5s 18ms/step - loss: 0.1113 - acc: 0.1500 - val_loss: 0.0899 - val_acc: 0.1367\n",
      "\n",
      "Epoch 00002: val_loss improved from 0.12550 to 0.08990, saving model to model-002.h5\n",
      "Epoch 3/20\n",
      "300/300 [==============================] - 5s 18ms/step - loss: 0.0977 - acc: 0.1400 - val_loss: 0.0864 - val_acc: 0.1700\n",
      "\n",
      "Epoch 00003: val_loss improved from 0.08990 to 0.08642, saving model to model-003.h5\n",
      "Epoch 4/20\n",
      "300/300 [==============================] - 6s 19ms/step - loss: 0.0894 - acc: 0.2167 - val_loss: 0.0729 - val_acc: 0.2333\n",
      "\n",
      "Epoch 00004: val_loss improved from 0.08642 to 0.07289, saving model to model-004.h5\n",
      "Epoch 5/20\n",
      "300/300 [==============================] - 6s 20ms/step - loss: 0.0837 - acc: 0.1667 - val_loss: 0.0740 - val_acc: 0.2067\n",
      "\n",
      "Epoch 00005: val_loss did not improve from 0.07289\n",
      "Epoch 6/20\n",
      "300/300 [==============================] - 6s 20ms/step - loss: 0.0793 - acc: 0.2633 - val_loss: 0.0659 - val_acc: 0.2500\n",
      "\n",
      "Epoch 00006: val_loss improved from 0.07289 to 0.06589, saving model to model-006.h5\n",
      "Epoch 7/20\n",
      "300/300 [==============================] - 6s 20ms/step - loss: 0.0768 - acc: 0.2233 - val_loss: 0.0635 - val_acc: 0.2300\n",
      "\n",
      "Epoch 00007: val_loss improved from 0.06589 to 0.06355, saving model to model-007.h5\n",
      "Epoch 8/20\n",
      "300/300 [==============================] - 6s 20ms/step - loss: 0.0737 - acc: 0.2200 - val_loss: 0.0634 - val_acc: 0.2267\n",
      "\n",
      "Epoch 00008: val_loss improved from 0.06355 to 0.06344, saving model to model-008.h5\n",
      "Epoch 9/20\n",
      "300/300 [==============================] - 6s 20ms/step - loss: 0.0702 - acc: 0.2967 - val_loss: 0.0642 - val_acc: 0.2500\n",
      "\n",
      "Epoch 00009: val_loss did not improve from 0.06344\n",
      "Epoch 10/20\n",
      "300/300 [==============================] - 6s 19ms/step - loss: 0.0706 - acc: 0.3000 - val_loss: 0.0643 - val_acc: 0.2600\n",
      "\n",
      "Epoch 00010: val_loss did not improve from 0.06344\n",
      "Epoch 11/20\n",
      "300/300 [==============================] - 6s 20ms/step - loss: 0.0709 - acc: 0.2633 - val_loss: 0.0660 - val_acc: 0.2633\n",
      "\n",
      "Epoch 00011: val_loss did not improve from 0.06344\n",
      "Epoch 12/20\n",
      "300/300 [==============================] - 6s 19ms/step - loss: 0.0676 - acc: 0.2633 - val_loss: 0.0620 - val_acc: 0.2433\n",
      "\n",
      "Epoch 00012: val_loss improved from 0.06344 to 0.06202, saving model to model-012.h5\n",
      "Epoch 13/20\n",
      "300/300 [==============================] - 6s 20ms/step - loss: 0.0666 - acc: 0.2833 - val_loss: 0.0605 - val_acc: 0.2433\n",
      "\n",
      "Epoch 00013: val_loss improved from 0.06202 to 0.06047, saving model to model-013.h5\n",
      "Epoch 14/20\n",
      "300/300 [==============================] - 6s 19ms/step - loss: 0.0642 - acc: 0.3133 - val_loss: 0.0611 - val_acc: 0.2300\n",
      "\n",
      "Epoch 00014: val_loss did not improve from 0.06047\n",
      "Epoch 15/20\n",
      "300/300 [==============================] - 6s 20ms/step - loss: 0.0650 - acc: 0.2800 - val_loss: 0.0610 - val_acc: 0.2733\n",
      "\n",
      "Epoch 00015: val_loss did not improve from 0.06047\n",
      "Epoch 16/20\n",
      "300/300 [==============================] - 5s 18ms/step - loss: 0.0641 - acc: 0.3200 - val_loss: 0.0615 - val_acc: 0.2200\n",
      "\n",
      "Epoch 00016: val_loss did not improve from 0.06047\n",
      "Epoch 17/20\n",
      "300/300 [==============================] - 6s 20ms/step - loss: 0.0624 - acc: 0.2933 - val_loss: 0.0613 - val_acc: 0.2500\n",
      "\n",
      "Epoch 00017: val_loss did not improve from 0.06047\n",
      "Epoch 18/20\n",
      "300/300 [==============================] - 6s 19ms/step - loss: 0.0611 - acc: 0.3100 - val_loss: 0.0612 - val_acc: 0.2300\n",
      "\n",
      "Epoch 00018: val_loss did not improve from 0.06047\n",
      "Epoch 19/20\n",
      "300/300 [==============================] - 6s 20ms/step - loss: 0.0622 - acc: 0.3267 - val_loss: 0.0628 - val_acc: 0.2767\n",
      "\n",
      "Epoch 00019: val_loss did not improve from 0.06047\n",
      "Epoch 20/20\n",
      "300/300 [==============================] - 6s 20ms/step - loss: 0.0593 - acc: 0.4000 - val_loss: 0.0619 - val_acc: 0.2133\n",
      "\n",
      "Epoch 00020: val_loss did not improve from 0.06047\n",
      "300/300 [==============================] - 1s 3ms/step\n"
     ]
    }
   ],
   "source": [
    "from keras import optimizers\n",
    "\n",
    "model3 = Sequential()\n",
    "model3.add(Conv2D(32, activation='relu', input_shape=(72,72,1), kernel_size=(5,5), padding=\"same\"))\n",
    "model3.add(MaxPooling2D(pool_size=(2,2), padding=\"same\"))\n",
    "model3.add(Conv2D(32, (5,5), activation=\"relu\", padding=\"same\"))\n",
    "model3.add(MaxPooling2D(pool_size=(2,2), padding=\"same\"))\n",
    "model3.add(Flatten())\n",
    "model3.add(Dense(256, activation='relu'))\n",
    "model3.add(Dropout(0.5))\n",
    "model3.add(Dense(256, activation='relu'))\n",
    "model3.add(Dropout(0.5))\n",
    "model3.add(Dropout(0.5))\n",
    "\n",
    "\n",
    "model3.add(Dense(128, activation='relu'))\n",
    "model3.add(Dense(6))\n",
    "\n",
    "checkpoint =keras.callbacks.ModelCheckpoint('model-{epoch:03d}.h5', verbose=1, monitor='val_loss',save_best_only=True, mode='auto')  \n",
    "\n",
    "model3.compile(optimizer='adam', loss='mean_squared_error', metrics=['accuracy'])\n",
    "model3.fit(X_train_b, Y_train_b, batch_size = 8, epochs = 20,shuffle=True, validation_data =(X_test_b,Y_test_b),callbacks=[checkpoint])\n",
    "\n",
    "score3 = model3.evaluate(X_test_b, Y_test_b);"
   ]
  },
  {
   "cell_type": "code",
   "execution_count": 75,
   "metadata": {},
   "outputs": [
    {
     "name": "stdout",
     "output_type": "stream",
     "text": [
      "[0.06185956368843715, 0.21333333373069763]\n"
     ]
    }
   ],
   "source": [
    "print(score3)"
   ]
  },
  {
   "cell_type": "code",
   "execution_count": 76,
   "metadata": {},
   "outputs": [
    {
     "data": {
      "image/png": "[encoded data removed]",
      "text/plain": [
       "<Figure size 360x360 with 1 Axes>"
      ]
     },
     "metadata": {
      "needs_background": "light"
     },
     "output_type": "display_data"
    },
    {
     "data": {
      "image/png": "[encoded data removed]",
      "text/plain": [
       "<Figure size 360x360 with 1 Axes>"
      ]
     },
     "metadata": {
      "needs_background": "light"
     },
     "output_type": "display_data"
    },
    {
     "data": {
      "image/png": "[encoded data removed]",
      "text/plain": [
       "<Figure size 360x360 with 1 Axes>"
      ]
     },
     "metadata": {
      "needs_background": "light"
     },
     "output_type": "display_data"
    },
    {
     "data": {
      "image/png": "[encoded data removed]",
      "text/plain": [
       "<Figure size 360x360 with 1 Axes>"
      ]
     },
     "metadata": {
      "needs_background": "light"
     },
     "output_type": "display_data"
    },
    {
     "data": {
      "image/png": "[encoded data removed]",
      "text/plain": [
       "<Figure size 360x360 with 1 Axes>"
      ]
     },
     "metadata": {
      "needs_background": "light"
     },
     "output_type": "display_data"
    }
   ],
   "source": [
    "pred=model3.predict(X_test_b)\n",
    "for i in range(5):\n",
    "    visualize_prediction(X_test_b[i], pred[i])"
   ]
  },
  {
   "cell_type": "markdown",
   "metadata": {},
   "source": [
    "## 7 Image Denoising"
   ]
  },
  {
   "cell_type": "code",
   "execution_count": 77,
   "metadata": {},
   "outputs": [
    {
     "name": "stdout",
     "output_type": "stream",
     "text": [
      "Creating data:\n",
      "Creating data:\n"
     ]
    }
   ],
   "source": [
    "[X_train, Y_train],[X_train_noise,Y_train_noise]=generate_dataset_classification1(300, 20,pair=True)\n",
    "[X_test, Y_test],[X_test_noise,Y_test_noise]=generate_test_set_classification1(pair=True)"
   ]
  },
  {
   "cell_type": "code",
   "execution_count": 80,
   "metadata": {},
   "outputs": [
    {
     "name": "stdout",
     "output_type": "stream",
     "text": [
      "Train on 210 samples, validate on 90 samples\n",
      "Epoch 1/3\n",
      "210/210 [==============================] - 6s 30ms/step - loss: 0.2046 - val_loss: 0.1551\n",
      "Epoch 2/3\n",
      "210/210 [==============================] - 4s 21ms/step - loss: 0.1405 - val_loss: 0.1040\n",
      "Epoch 3/3\n",
      "210/210 [==============================] - 5s 22ms/step - loss: 0.0955 - val_loss: 0.0651\n"
     ]
    }
   ],
   "source": [
    "input_img = Input(shape=(IMAGE_SIZE, IMAGE_SIZE, 1))\n",
    "\n",
    "x = Conv2D(32, (3, 3), activation='relu', padding='same')(input_img)\n",
    "x = MaxPooling2D((2, 2), padding='same')(x)\n",
    "\n",
    "x = Conv2D(32, (3, 3), activation='relu', padding='same')(x)\n",
    "x = UpSampling2D((2, 2))(x)\n",
    "\n",
    "decoded = Conv2D(1, (3, 3), padding='same', activation=\"sigmoid\")(x)\n",
    "\n",
    "model = Model(input_img, decoded)\n",
    "\n",
    "model.compile(optimizer='adam', loss='mean_squared_error')\n",
    "\n",
    "model.fit(\n",
    "    np.reshape(X_train, (X_train.shape[0], IMAGE_SIZE, IMAGE_SIZE, 1)),\n",
    "    np.reshape(X_train_noise, (X_train_noise.shape[0], IMAGE_SIZE, IMAGE_SIZE, 1)),\n",
    "    epochs=3,\n",
    "    batch_size=64,\n",
    "    validation_split=0.3\n",
    ");"
   ]
  },
  {
   "cell_type": "code",
   "execution_count": 81,
   "metadata": {},
   "outputs": [
    {
     "data": {
      "image/png": "[encoded data removed]",
      "text/plain": [
       "<Figure size 1440x288 with 20 Axes>"
      ]
     },
     "metadata": {
      "needs_background": "light"
     },
     "output_type": "display_data"
    }
   ],
   "source": [
    "n = 10\n",
    "decoded_imgs = model.predict(np.reshape(X_train_noise[:n], (n, IMAGE_SIZE, IMAGE_SIZE, 1)))\n",
    "\n",
    "plt.figure(figsize=(20, 4))\n",
    "for i in range(n):\n",
    "    ax = plt.subplot(2, n, i + 1)\n",
    "    plt.imshow(X_train[i].reshape(IMAGE_SIZE, IMAGE_SIZE), cmap=\"gray\")\n",
    "     # reconstructed images \n",
    "    ax = plt.subplot(2, n, n + i + 1)\n",
    "    plt.imshow(decoded_imgs[i].reshape(IMAGE_SIZE, IMAGE_SIZE), cmap=\"gray\")\n",
    "\n",
    "plt.show()"
   ]
  }
 ],
 "metadata": {
  "kernelspec": {
   "display_name": "Python 3",
   "language": "python",
   "name": "python3"
  },
  "language_info": {
   "codemirror_mode": {
    "name": "ipython",
    "version": 3
   },
   "file_extension": ".py",
   "mimetype": "text/x-python",
   "name": "python",
   "nbconvert_exporter": "python",
   "pygments_lexer": "ipython3",
   "version": "3.6.5"
  }
 },
 "nbformat": 4,
 "nbformat_minor": 2
}
